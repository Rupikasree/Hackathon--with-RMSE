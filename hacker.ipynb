{
 "cells": [
  {
   "cell_type": "code",
   "execution_count": 1,
   "metadata": {},
   "outputs": [],
   "source": [
    "import numpy as np\n",
    "import pandas as pd\n",
    "import matplotlib.pyplot as plt\n",
    "import seaborn as sns"
   ]
  },
  {
   "cell_type": "code",
   "execution_count": 2,
   "metadata": {},
   "outputs": [],
   "source": [
    "df=pd.read_csv('Training Data Set_N.csv')"
   ]
  },
  {
   "cell_type": "code",
   "execution_count": 3,
   "metadata": {},
   "outputs": [
    {
     "data": {
      "text/html": [
       "<div>\n",
       "<style scoped>\n",
       "    .dataframe tbody tr th:only-of-type {\n",
       "        vertical-align: middle;\n",
       "    }\n",
       "\n",
       "    .dataframe tbody tr th {\n",
       "        vertical-align: top;\n",
       "    }\n",
       "\n",
       "    .dataframe thead th {\n",
       "        text-align: right;\n",
       "    }\n",
       "</style>\n",
       "<table border=\"1\" class=\"dataframe\">\n",
       "  <thead>\n",
       "    <tr style=\"text-align: right;\">\n",
       "      <th></th>\n",
       "      <th>Id</th>\n",
       "      <th>Maker</th>\n",
       "      <th>model</th>\n",
       "      <th>Location</th>\n",
       "      <th>distance</th>\n",
       "      <th>Owner Type</th>\n",
       "      <th>manufacture_year</th>\n",
       "      <th>Age of car</th>\n",
       "      <th>engine_displacement</th>\n",
       "      <th>engine_power</th>\n",
       "      <th>body_type</th>\n",
       "      <th>Vroom Audit Rating</th>\n",
       "      <th>transmission</th>\n",
       "      <th>door_count</th>\n",
       "      <th>seat_count</th>\n",
       "      <th>fuel_type</th>\n",
       "      <th>Price</th>\n",
       "    </tr>\n",
       "  </thead>\n",
       "  <tbody>\n",
       "    <tr>\n",
       "      <th>0</th>\n",
       "      <td>25001</td>\n",
       "      <td>skoda</td>\n",
       "      <td>octavia</td>\n",
       "      <td>Ahmedabad</td>\n",
       "      <td>NaN</td>\n",
       "      <td>Second</td>\n",
       "      <td>1964</td>\n",
       "      <td>55</td>\n",
       "      <td>1964</td>\n",
       "      <td>147.0</td>\n",
       "      <td>compact</td>\n",
       "      <td>8</td>\n",
       "      <td>man</td>\n",
       "      <td>None</td>\n",
       "      <td>None</td>\n",
       "      <td>petrol</td>\n",
       "      <td>543764.25</td>\n",
       "    </tr>\n",
       "    <tr>\n",
       "      <th>1</th>\n",
       "      <td>25002</td>\n",
       "      <td>fiat</td>\n",
       "      <td>panda</td>\n",
       "      <td>Ahmedabad</td>\n",
       "      <td>27750.0</td>\n",
       "      <td>Third</td>\n",
       "      <td>2012</td>\n",
       "      <td>7</td>\n",
       "      <td>1242</td>\n",
       "      <td>51.0</td>\n",
       "      <td>NaN</td>\n",
       "      <td>6</td>\n",
       "      <td>man</td>\n",
       "      <td>4</td>\n",
       "      <td>4</td>\n",
       "      <td>petrol</td>\n",
       "      <td>401819.25</td>\n",
       "    </tr>\n",
       "    <tr>\n",
       "      <th>2</th>\n",
       "      <td>25003</td>\n",
       "      <td>bmw</td>\n",
       "      <td>x1</td>\n",
       "      <td>Hyderabad</td>\n",
       "      <td>46000.0</td>\n",
       "      <td>Third</td>\n",
       "      <td>2014</td>\n",
       "      <td>5</td>\n",
       "      <td>1995</td>\n",
       "      <td>105.0</td>\n",
       "      <td>NaN</td>\n",
       "      <td>7</td>\n",
       "      <td>auto</td>\n",
       "      <td>4</td>\n",
       "      <td>5</td>\n",
       "      <td>diesel</td>\n",
       "      <td>2392855.50</td>\n",
       "    </tr>\n",
       "    <tr>\n",
       "      <th>3</th>\n",
       "      <td>25004</td>\n",
       "      <td>nissan</td>\n",
       "      <td>juke</td>\n",
       "      <td>Mumbai</td>\n",
       "      <td>43949.0</td>\n",
       "      <td>Third</td>\n",
       "      <td>2011</td>\n",
       "      <td>8</td>\n",
       "      <td>1618</td>\n",
       "      <td>140.0</td>\n",
       "      <td>NaN</td>\n",
       "      <td>7</td>\n",
       "      <td>man</td>\n",
       "      <td>4</td>\n",
       "      <td>5</td>\n",
       "      <td>petrol</td>\n",
       "      <td>958606.50</td>\n",
       "    </tr>\n",
       "    <tr>\n",
       "      <th>4</th>\n",
       "      <td>25005</td>\n",
       "      <td>bmw</td>\n",
       "      <td>x5</td>\n",
       "      <td>Jaipur</td>\n",
       "      <td>59524.0</td>\n",
       "      <td>Fourth &amp; Above</td>\n",
       "      <td>2012</td>\n",
       "      <td>7</td>\n",
       "      <td>2993</td>\n",
       "      <td>180.0</td>\n",
       "      <td>NaN</td>\n",
       "      <td>7</td>\n",
       "      <td>auto</td>\n",
       "      <td>4</td>\n",
       "      <td>5</td>\n",
       "      <td>diesel</td>\n",
       "      <td>3085561.50</td>\n",
       "    </tr>\n",
       "  </tbody>\n",
       "</table>\n",
       "</div>"
      ],
      "text/plain": [
       "      Id   Maker    model   Location  distance      Owner Type  \\\n",
       "0  25001   skoda  octavia  Ahmedabad       NaN          Second   \n",
       "1  25002    fiat    panda  Ahmedabad   27750.0           Third   \n",
       "2  25003     bmw       x1  Hyderabad   46000.0           Third   \n",
       "3  25004  nissan     juke     Mumbai   43949.0           Third   \n",
       "4  25005     bmw       x5     Jaipur   59524.0  Fourth & Above   \n",
       "\n",
       "   manufacture_year  Age of car  engine_displacement  engine_power body_type  \\\n",
       "0              1964          55                 1964         147.0   compact   \n",
       "1              2012           7                 1242          51.0       NaN   \n",
       "2              2014           5                 1995         105.0       NaN   \n",
       "3              2011           8                 1618         140.0       NaN   \n",
       "4              2012           7                 2993         180.0       NaN   \n",
       "\n",
       "   Vroom Audit Rating transmission door_count seat_count fuel_type       Price  \n",
       "0                   8          man       None       None    petrol   543764.25  \n",
       "1                   6          man          4          4    petrol   401819.25  \n",
       "2                   7         auto          4          5    diesel  2392855.50  \n",
       "3                   7          man          4          5    petrol   958606.50  \n",
       "4                   7         auto          4          5    diesel  3085561.50  "
      ]
     },
     "execution_count": 3,
     "metadata": {},
     "output_type": "execute_result"
    }
   ],
   "source": [
    "df.head()"
   ]
  },
  {
   "cell_type": "code",
   "execution_count": 4,
   "metadata": {},
   "outputs": [
    {
     "name": "stdout",
     "output_type": "stream",
     "text": [
      "<class 'pandas.core.frame.DataFrame'>\n",
      "RangeIndex: 53515 entries, 0 to 53514\n",
      "Data columns (total 17 columns):\n",
      "Id                     53515 non-null int64\n",
      "Maker                  53515 non-null object\n",
      "model                  53515 non-null object\n",
      "Location               53515 non-null object\n",
      "distance               52304 non-null float64\n",
      "Owner Type             53515 non-null object\n",
      "manufacture_year       53515 non-null int64\n",
      "Age of car             53515 non-null int64\n",
      "engine_displacement    53515 non-null int64\n",
      "engine_power           52076 non-null float64\n",
      "body_type              4136 non-null object\n",
      "Vroom Audit Rating     53515 non-null int64\n",
      "transmission           53515 non-null object\n",
      "door_count             53515 non-null object\n",
      "seat_count             53515 non-null object\n",
      "fuel_type              53515 non-null object\n",
      "Price                  53515 non-null float64\n",
      "dtypes: float64(3), int64(5), object(9)\n",
      "memory usage: 6.9+ MB\n"
     ]
    }
   ],
   "source": [
    "df.info()"
   ]
  },
  {
   "cell_type": "code",
   "execution_count": 5,
   "metadata": {},
   "outputs": [
    {
     "data": {
      "text/plain": [
       "Id                         0\n",
       "Maker                      0\n",
       "model                      0\n",
       "Location                   0\n",
       "distance                1211\n",
       "Owner Type                 0\n",
       "manufacture_year           0\n",
       "Age of car                 0\n",
       "engine_displacement        0\n",
       "engine_power            1439\n",
       "body_type              49379\n",
       "Vroom Audit Rating         0\n",
       "transmission               0\n",
       "door_count                 0\n",
       "seat_count                 0\n",
       "fuel_type                  0\n",
       "Price                      0\n",
       "dtype: int64"
      ]
     },
     "execution_count": 5,
     "metadata": {},
     "output_type": "execute_result"
    }
   ],
   "source": [
    "df.isnull().sum()"
   ]
  },
  {
   "cell_type": "code",
   "execution_count": 6,
   "metadata": {},
   "outputs": [
    {
     "data": {
      "text/plain": [
       "distance         1211\n",
       "engine_power     1439\n",
       "body_type       49379\n",
       "dtype: int64"
      ]
     },
     "execution_count": 6,
     "metadata": {},
     "output_type": "execute_result"
    }
   ],
   "source": [
    "ms=df.isnull().sum()\n",
    "ms[ms>0]"
   ]
  },
  {
   "cell_type": "code",
   "execution_count": 7,
   "metadata": {},
   "outputs": [
    {
     "data": {
      "text/plain": [
       "<matplotlib.axes._subplots.AxesSubplot at 0x1d6aeef0160>"
      ]
     },
     "execution_count": 7,
     "metadata": {},
     "output_type": "execute_result"
    },
    {
     "data": {
      "image/png": "[encoded data removed]",
      "text/plain": [
       "<Figure size 432x288 with 2 Axes>"
      ]
     },
     "metadata": {
      "needs_background": "light"
     },
     "output_type": "display_data"
    }
   ],
   "source": [
    "sns.heatmap(df.corr(),annot=True)"
   ]
  },
  {
   "cell_type": "code",
   "execution_count": 8,
   "metadata": {},
   "outputs": [
    {
     "name": "stdout",
     "output_type": "stream",
     "text": [
      "26611    0.001869\n",
      "35588    0.001869\n",
      "47810    0.001869\n",
      "41665    0.001869\n",
      "43712    0.001869\n",
      "70327    0.001869\n",
      "72374    0.001869\n",
      "66229    0.001869\n",
      "68276    0.001869\n",
      "78515    0.001869\n",
      "74417    0.001869\n",
      "76464    0.001869\n",
      "29339    0.001869\n",
      "31386    0.001869\n",
      "25241    0.001869\n",
      "27288    0.001869\n",
      "53903    0.001869\n",
      "55950    0.001869\n",
      "49805    0.001869\n",
      "51852    0.001869\n",
      "62091    0.001869\n",
      "64138    0.001869\n",
      "57993    0.001869\n",
      "60040    0.001869\n",
      "37511    0.001869\n",
      "45763    0.001869\n",
      "35524    0.001869\n",
      "33477    0.001869\n",
      "31450    0.001869\n",
      "47874    0.001869\n",
      "           ...   \n",
      "64821    0.001869\n",
      "62772    0.001869\n",
      "52531    0.001869\n",
      "28007    0.001869\n",
      "56689    0.001869\n",
      "28071    0.001869\n",
      "42366    0.001869\n",
      "26022    0.001869\n",
      "32165    0.001869\n",
      "30116    0.001869\n",
      "77199    0.001869\n",
      "75150    0.001869\n",
      "69003    0.001869\n",
      "66954    0.001869\n",
      "73097    0.001869\n",
      "71048    0.001869\n",
      "44415    0.001869\n",
      "48509    0.001869\n",
      "50546    0.001869\n",
      "46460    0.001869\n",
      "36219    0.001869\n",
      "34170    0.001869\n",
      "40313    0.001869\n",
      "38264    0.001869\n",
      "60791    0.001869\n",
      "58742    0.001869\n",
      "64885    0.001869\n",
      "62836    0.001869\n",
      "52595    0.001869\n",
      "26637    0.001869\n",
      "Name: Id, Length: 53515, dtype: float64\n",
      "skoda       40.293376\n",
      "toyota      14.650098\n",
      "audi        13.689620\n",
      "bmw         13.413062\n",
      "nissan      10.249463\n",
      "hyundai      4.185742\n",
      "fiat         3.447632\n",
      "maserati     0.071008\n",
      "Name: Maker, dtype: float64\n",
      "octavia     23.580305\n",
      "superb       5.970289\n",
      "yaris        5.934785\n",
      "qashqai      5.333084\n",
      "x3           5.192937\n",
      "x1           4.522097\n",
      "i30          3.825096\n",
      "q5           3.810147\n",
      "x5           3.698029\n",
      "yeti         3.546669\n",
      "panda        3.305615\n",
      "q3           3.243950\n",
      "coupe        3.195366\n",
      "micra        3.131832\n",
      "auris        3.113146\n",
      "avensis      2.825376\n",
      "aygo         2.776792\n",
      "rapid        2.632907\n",
      "roomster     2.470335\n",
      "q7           2.326451\n",
      "citigo       2.092871\n",
      "juke         1.784546\n",
      "tt           1.687377\n",
      "Name: model, dtype: float64\n",
      "Coimbatore    9.298328\n",
      "Kochi         9.285247\n",
      "Bangalore     9.115201\n",
      "Jaipur        9.100252\n",
      "Kolkata       9.096515\n",
      "Pune          9.085303\n",
      "Mumbai        9.081566\n",
      "Chennai       9.032981\n",
      "Delhi         9.014295\n",
      "Hyderabad     8.976922\n",
      "Ahmedabad     8.913389\n",
      "Name: Location, dtype: float64\n",
      "10.0        5.949734\n",
      "5.0         1.336074\n",
      "0.0         1.220219\n",
      "100.0       0.769878\n",
      "50.0        0.736242\n",
      "15.0        0.633467\n",
      "20.0        0.470896\n",
      "1.0         0.424180\n",
      "75000.0     0.420443\n",
      "150000.0    0.308325\n",
      "100000.0    0.284033\n",
      "3000.0      0.272821\n",
      "65000.0     0.267215\n",
      "110000.0    0.267215\n",
      "1000.0      0.265346\n",
      "2.0         0.256003\n",
      "125000.0    0.244791\n",
      "25.0        0.218630\n",
      "189000.0    0.214893\n",
      "5000.0      0.214893\n",
      "120000.0    0.213024\n",
      "88000.0     0.211156\n",
      "190000.0    0.209287\n",
      "2500.0      0.207418\n",
      "180000.0    0.201813\n",
      "115000.0    0.199944\n",
      "20000.0     0.199944\n",
      "1500.0      0.190601\n",
      "7000.0      0.186863\n",
      "4000.0      0.184995\n",
      "              ...   \n",
      "95022.0     0.001869\n",
      "84400.0     0.001869\n",
      "117260.0    0.001869\n",
      "157274.0    0.001869\n",
      "23953.0     0.001869\n",
      "47510.0     0.001869\n",
      "177400.0    0.001869\n",
      "157270.0    0.001869\n",
      "87760.0     0.001869\n",
      "35221.0     0.001869\n",
      "41400.0     0.001869\n",
      "76180.0     0.001869\n",
      "123305.0    0.001869\n",
      "173644.0    0.001869\n",
      "181998.0    0.001869\n",
      "177402.0    0.001869\n",
      "23753.0     0.001869\n",
      "239175.0    0.001869\n",
      "38451.0     0.001869\n",
      "206405.0    0.001869\n",
      "47505.0     0.001869\n",
      "157247.0    0.001869\n",
      "4060.0      0.001869\n",
      "347260.0    0.001869\n",
      "70430.0     0.001869\n",
      "53695.0     0.001869\n",
      "196376.0    0.001869\n",
      "15413.0     0.001869\n",
      "70429.0     0.001869\n",
      "155561.0    0.001869\n",
      "Name: distance, Length: 18676, dtype: float64\n",
      "First             25.050920\n",
      "Third             25.030365\n",
      "Second            24.974306\n",
      "Fourth & Above    24.944408\n",
      "Name: Owner Type, dtype: float64\n",
      "2015    23.146781\n",
      "2012    11.678969\n",
      "2011     9.229188\n",
      "2014     9.113333\n",
      "2010     7.061572\n",
      "2009     5.445202\n",
      "2013     5.437728\n",
      "2008     5.342427\n",
      "2007     5.306923\n",
      "2006     3.770905\n",
      "2005     3.186023\n",
      "2004     2.505839\n",
      "2003     1.765860\n",
      "2001     1.403345\n",
      "2002     1.388396\n",
      "2000     1.358498\n",
      "1999     1.009063\n",
      "1998     0.584883\n",
      "2016     0.383070\n",
      "1997     0.263478\n",
      "1996     0.140148\n",
      "1994     0.069139\n",
      "1991     0.059796\n",
      "1995     0.057928\n",
      "1993     0.041110\n",
      "1992     0.039241\n",
      "1990     0.031767\n",
      "1989     0.024292\n",
      "1968     0.024292\n",
      "1988     0.018686\n",
      "1984     0.011212\n",
      "1950     0.011212\n",
      "1985     0.009343\n",
      "1980     0.007475\n",
      "1973     0.007475\n",
      "1982     0.007475\n",
      "1986     0.007475\n",
      "1983     0.005606\n",
      "1971     0.005606\n",
      "1962     0.003737\n",
      "1987     0.003737\n",
      "1964     0.003737\n",
      "1972     0.003737\n",
      "1966     0.003737\n",
      "1959     0.001869\n",
      "1981     0.001869\n",
      "1963     0.001869\n",
      "1974     0.001869\n",
      "1956     0.001869\n",
      "1955     0.001869\n",
      "1960     0.001869\n",
      "1976     0.001869\n",
      "1969     0.001869\n",
      "1934     0.001869\n",
      "1952     0.001869\n",
      "Name: manufacture_year, dtype: float64\n",
      "4     23.146781\n",
      "7     11.678969\n",
      "8      9.229188\n",
      "5      9.113333\n",
      "9      7.061572\n",
      "10     5.445202\n",
      "6      5.437728\n",
      "11     5.342427\n",
      "12     5.306923\n",
      "13     3.770905\n",
      "14     3.186023\n",
      "15     2.505839\n",
      "16     1.765860\n",
      "18     1.403345\n",
      "17     1.388396\n",
      "19     1.358498\n",
      "20     1.009063\n",
      "21     0.584883\n",
      "3      0.383070\n",
      "22     0.263478\n",
      "23     0.140148\n",
      "25     0.069139\n",
      "28     0.059796\n",
      "24     0.057928\n",
      "26     0.041110\n",
      "27     0.039241\n",
      "29     0.031767\n",
      "30     0.024292\n",
      "51     0.024292\n",
      "31     0.018686\n",
      "35     0.011212\n",
      "69     0.011212\n",
      "34     0.009343\n",
      "39     0.007475\n",
      "46     0.007475\n",
      "37     0.007475\n",
      "33     0.007475\n",
      "48     0.005606\n",
      "36     0.005606\n",
      "47     0.003737\n",
      "32     0.003737\n",
      "53     0.003737\n",
      "55     0.003737\n",
      "57     0.003737\n",
      "38     0.001869\n",
      "43     0.001869\n",
      "45     0.001869\n",
      "50     0.001869\n",
      "85     0.001869\n",
      "67     0.001869\n",
      "56     0.001869\n",
      "59     0.001869\n",
      "60     0.001869\n",
      "64     0.001869\n",
      "63     0.001869\n",
      "Name: Age of car, dtype: float64\n",
      "1968     14.999533\n",
      "1995      8.130431\n",
      "1598      7.612819\n",
      "998       5.366720\n",
      "1197      4.862188\n",
      "2993      4.215640\n",
      "2000      3.187891\n",
      "1896      3.165468\n",
      "1900      3.111277\n",
      "2967      3.015977\n",
      "1984      2.993553\n",
      "1600      2.649724\n",
      "1798      2.612352\n",
      "999       2.091003\n",
      "1242      1.745305\n",
      "1198      1.640661\n",
      "1329      1.541624\n",
      "1461      1.509857\n",
      "1390      1.474353\n",
      "1396      1.349154\n",
      "1595      1.283752\n",
      "1582      1.214613\n",
      "1364      1.197795\n",
      "1998      1.098757\n",
      "1395      1.068859\n",
      "1781      1.050173\n",
      "1997      0.926843\n",
      "1240      0.868915\n",
      "1200      0.738111\n",
      "1108      0.620387\n",
      "           ...    \n",
      "2293      0.001869\n",
      "4598      0.001869\n",
      "2933      0.001869\n",
      "9136      0.001869\n",
      "5142      0.001869\n",
      "9648      0.001869\n",
      "1460      0.001869\n",
      "9910      0.001869\n",
      "13940     0.001869\n",
      "1650      0.001869\n",
      "1969      0.001869\n",
      "26300     0.001869\n",
      "12149     0.001869\n",
      "10196     0.001869\n",
      "19000     0.001869\n",
      "5171      0.001869\n",
      "1297      0.001869\n",
      "11700     0.001869\n",
      "20120     0.001869\n",
      "2131      0.001869\n",
      "1490      0.001869\n",
      "2195      0.001869\n",
      "19163     0.001869\n",
      "978       0.001869\n",
      "1010      0.001869\n",
      "13300     0.001869\n",
      "3123      0.001869\n",
      "17690     0.001869\n",
      "17850     0.001869\n",
      "8196      0.001869\n",
      "Name: engine_displacement, Length: 555, dtype: float64\n",
      "77.0     9.464636\n",
      "103.0    7.424087\n",
      "110.0    5.323741\n",
      "81.0     4.748201\n",
      "51.0     4.310941\n",
      "125.0    3.942820\n",
      "66.0     3.890498\n",
      "135.0    3.640101\n",
      "130.0    2.935626\n",
      "73.0     2.416145\n",
      "85.0     2.268523\n",
      "44.0     2.255442\n",
      "63.0     2.214332\n",
      "105.0    2.008783\n",
      "50.0     2.008783\n",
      "75.0     1.969541\n",
      "55.0     1.762123\n",
      "180.0    1.750911\n",
      "74.0     1.668691\n",
      "59.0     1.485565\n",
      "96.0     1.468747\n",
      "140.0    1.296833\n",
      "118.0    1.156685\n",
      "40.0     1.087546\n",
      "48.0     1.053910\n",
      "160.0    1.033355\n",
      "176.0    1.022143\n",
      "190.0    0.930580\n",
      "90.0     0.926843\n",
      "132.0    0.786695\n",
      "           ...   \n",
      "533.0    0.001869\n",
      "282.0    0.001869\n",
      "316.0    0.001869\n",
      "599.0    0.001869\n",
      "202.0    0.001869\n",
      "116.0    0.001869\n",
      "404.0    0.001869\n",
      "163.0    0.001869\n",
      "405.0    0.001869\n",
      "320.0    0.001869\n",
      "22.0     0.001869\n",
      "516.0    0.001869\n",
      "187.0    0.001869\n",
      "213.0    0.001869\n",
      "188.0    0.001869\n",
      "58.0     0.001869\n",
      "201.0    0.001869\n",
      "896.0    0.001869\n",
      "812.0    0.001869\n",
      "215.0    0.001869\n",
      "87.0     0.001869\n",
      "172.0    0.001869\n",
      "168.0    0.001869\n",
      "229.0    0.001869\n",
      "175.0    0.001869\n",
      "79.0     0.001869\n",
      "283.0    0.001869\n",
      "355.0    0.001869\n",
      "46.0     0.001869\n",
      "145.0    0.001869\n",
      "Name: engine_power, Length: 199, dtype: float64\n",
      "compact    7.711856\n",
      "van        0.016818\n",
      "Name: body_type, dtype: float64\n",
      "8    20.224236\n",
      "4    20.123330\n",
      "5    20.069139\n",
      "6    19.878539\n",
      "7    19.704756\n",
      "Name: Vroom Audit Rating, dtype: float64\n",
      "man     68.642437\n",
      "auto    31.357563\n",
      "Name: transmission, dtype: float64\n",
      "4       63.174811\n",
      "5       14.257685\n",
      "None    14.078296\n",
      "2        8.124825\n",
      "3        0.345697\n",
      "6        0.014949\n",
      "1        0.003737\n",
      "Name: door_count, dtype: float64\n",
      "5       72.547884\n",
      "None    15.903952\n",
      "4        8.347192\n",
      "7        1.592077\n",
      "2        1.354760\n",
      "3        0.203681\n",
      "6        0.042979\n",
      "9        0.003737\n",
      "1        0.001869\n",
      "8        0.001869\n",
      "Name: seat_count, dtype: float64\n",
      "diesel    51.497711\n",
      "petrol    48.502289\n",
      "Name: fuel_type, dtype: float64\n",
      "358068.00     0.235448\n",
      "413582.25     0.227973\n",
      "416358.00     0.213024\n",
      "385825.50     0.211156\n",
      "552368.25     0.203681\n",
      "469097.25     0.201813\n",
      "274796.25     0.199944\n",
      "691155.00     0.186863\n",
      "829941.00     0.186863\n",
      "441339.75     0.181258\n",
      "302553.75     0.171914\n",
      "374722.50     0.171914\n",
      "247039.50     0.170046\n",
      "208179.00     0.166309\n",
      "402480.00     0.164440\n",
      "555144.00     0.158834\n",
      "333086.25     0.158834\n",
      "633411.00     0.156965\n",
      "663397.50     0.155097\n",
      "191524.50     0.153228\n",
      "330311.25     0.151359\n",
      "607883.25     0.151359\n",
      "471873.00     0.147622\n",
      "388601.25     0.143885\n",
      "774426.00     0.142016\n",
      "802183.50     0.142016\n",
      "524611.50     0.138279\n",
      "633294.75     0.136410\n",
      "319208.25     0.134542\n",
      "430236.75     0.134542\n",
      "                ...   \n",
      "879637.50     0.001869\n",
      "1675953.00    0.001869\n",
      "1890336.00    0.001869\n",
      "2069175.75    0.001869\n",
      "3518776.50    0.001869\n",
      "1366176.75    0.001869\n",
      "2208081.00    0.001869\n",
      "1544822.25    0.001869\n",
      "945294.00     0.001869\n",
      "472644.00     0.001869\n",
      "1544711.25    0.001869\n",
      "1497349.50    0.001869\n",
      "879745.50     0.001869\n",
      "1544727.75    0.001869\n",
      "1937950.50    0.001869\n",
      "641297.25     0.001869\n",
      "1806891.75    0.001869\n",
      "1544763.75    0.001869\n",
      "2994662.25    0.001869\n",
      "2470339.50    0.001869\n",
      "1890524.25    0.001869\n",
      "2565285.75    0.001869\n",
      "2208175.50    0.001869\n",
      "903469.50     0.001869\n",
      "1413727.50    0.001869\n",
      "837940.50     0.001869\n",
      "1759416.00    0.001869\n",
      "2994540.00    0.001869\n",
      "2470248.00    0.001869\n",
      "2326976.25    0.001869\n",
      "Name: Price, Length: 20550, dtype: float64\n"
     ]
    }
   ],
   "source": [
    "for col in df.columns:\n",
    "    print((df[col].value_counts()/len(df[col]))*100)"
   ]
  },
  {
   "cell_type": "code",
   "execution_count": 9,
   "metadata": {},
   "outputs": [
    {
     "data": {
      "text/plain": [
       "['Maker',\n",
       " 'model',\n",
       " 'Location',\n",
       " 'Owner Type',\n",
       " 'body_type',\n",
       " 'transmission',\n",
       " 'door_count',\n",
       " 'seat_count',\n",
       " 'fuel_type']"
      ]
     },
     "execution_count": 9,
     "metadata": {},
     "output_type": "execute_result"
    }
   ],
   "source": [
    "cat_cols=list(df.select_dtypes(include=['object']).columns)\n",
    "cat_cols"
   ]
  },
  {
   "cell_type": "code",
   "execution_count": 10,
   "metadata": {},
   "outputs": [
    {
     "data": {
      "text/html": [
       "<div>\n",
       "<style scoped>\n",
       "    .dataframe tbody tr th:only-of-type {\n",
       "        vertical-align: middle;\n",
       "    }\n",
       "\n",
       "    .dataframe tbody tr th {\n",
       "        vertical-align: top;\n",
       "    }\n",
       "\n",
       "    .dataframe thead th {\n",
       "        text-align: right;\n",
       "    }\n",
       "</style>\n",
       "<table border=\"1\" class=\"dataframe\">\n",
       "  <thead>\n",
       "    <tr style=\"text-align: right;\">\n",
       "      <th></th>\n",
       "      <th>Id</th>\n",
       "      <th>Maker</th>\n",
       "      <th>model</th>\n",
       "      <th>Location</th>\n",
       "      <th>distance</th>\n",
       "      <th>Owner Type</th>\n",
       "      <th>manufacture_year</th>\n",
       "      <th>Age of car</th>\n",
       "      <th>engine_displacement</th>\n",
       "      <th>engine_power</th>\n",
       "      <th>body_type</th>\n",
       "      <th>Vroom Audit Rating</th>\n",
       "      <th>transmission</th>\n",
       "      <th>door_count</th>\n",
       "      <th>seat_count</th>\n",
       "      <th>fuel_type</th>\n",
       "      <th>Price</th>\n",
       "    </tr>\n",
       "  </thead>\n",
       "  <tbody>\n",
       "    <tr>\n",
       "      <th>0</th>\n",
       "      <td>25001</td>\n",
       "      <td>skoda</td>\n",
       "      <td>octavia</td>\n",
       "      <td>Ahmedabad</td>\n",
       "      <td>NaN</td>\n",
       "      <td>Second</td>\n",
       "      <td>1964</td>\n",
       "      <td>55</td>\n",
       "      <td>1964</td>\n",
       "      <td>147.0</td>\n",
       "      <td>compact</td>\n",
       "      <td>8</td>\n",
       "      <td>man</td>\n",
       "      <td>None</td>\n",
       "      <td>None</td>\n",
       "      <td>petrol</td>\n",
       "      <td>543764.25</td>\n",
       "    </tr>\n",
       "    <tr>\n",
       "      <th>1</th>\n",
       "      <td>25002</td>\n",
       "      <td>fiat</td>\n",
       "      <td>panda</td>\n",
       "      <td>Ahmedabad</td>\n",
       "      <td>27750.0</td>\n",
       "      <td>Third</td>\n",
       "      <td>2012</td>\n",
       "      <td>7</td>\n",
       "      <td>1242</td>\n",
       "      <td>51.0</td>\n",
       "      <td>NaN</td>\n",
       "      <td>6</td>\n",
       "      <td>man</td>\n",
       "      <td>4</td>\n",
       "      <td>4</td>\n",
       "      <td>petrol</td>\n",
       "      <td>401819.25</td>\n",
       "    </tr>\n",
       "    <tr>\n",
       "      <th>2</th>\n",
       "      <td>25003</td>\n",
       "      <td>bmw</td>\n",
       "      <td>x1</td>\n",
       "      <td>Hyderabad</td>\n",
       "      <td>46000.0</td>\n",
       "      <td>Third</td>\n",
       "      <td>2014</td>\n",
       "      <td>5</td>\n",
       "      <td>1995</td>\n",
       "      <td>105.0</td>\n",
       "      <td>NaN</td>\n",
       "      <td>7</td>\n",
       "      <td>auto</td>\n",
       "      <td>4</td>\n",
       "      <td>5</td>\n",
       "      <td>diesel</td>\n",
       "      <td>2392855.50</td>\n",
       "    </tr>\n",
       "    <tr>\n",
       "      <th>3</th>\n",
       "      <td>25004</td>\n",
       "      <td>nissan</td>\n",
       "      <td>juke</td>\n",
       "      <td>Mumbai</td>\n",
       "      <td>43949.0</td>\n",
       "      <td>Third</td>\n",
       "      <td>2011</td>\n",
       "      <td>8</td>\n",
       "      <td>1618</td>\n",
       "      <td>140.0</td>\n",
       "      <td>NaN</td>\n",
       "      <td>7</td>\n",
       "      <td>man</td>\n",
       "      <td>4</td>\n",
       "      <td>5</td>\n",
       "      <td>petrol</td>\n",
       "      <td>958606.50</td>\n",
       "    </tr>\n",
       "    <tr>\n",
       "      <th>4</th>\n",
       "      <td>25005</td>\n",
       "      <td>bmw</td>\n",
       "      <td>x5</td>\n",
       "      <td>Jaipur</td>\n",
       "      <td>59524.0</td>\n",
       "      <td>Fourth &amp; Above</td>\n",
       "      <td>2012</td>\n",
       "      <td>7</td>\n",
       "      <td>2993</td>\n",
       "      <td>180.0</td>\n",
       "      <td>NaN</td>\n",
       "      <td>7</td>\n",
       "      <td>auto</td>\n",
       "      <td>4</td>\n",
       "      <td>5</td>\n",
       "      <td>diesel</td>\n",
       "      <td>3085561.50</td>\n",
       "    </tr>\n",
       "  </tbody>\n",
       "</table>\n",
       "</div>"
      ],
      "text/plain": [
       "      Id   Maker    model   Location  distance      Owner Type  \\\n",
       "0  25001   skoda  octavia  Ahmedabad       NaN          Second   \n",
       "1  25002    fiat    panda  Ahmedabad   27750.0           Third   \n",
       "2  25003     bmw       x1  Hyderabad   46000.0           Third   \n",
       "3  25004  nissan     juke     Mumbai   43949.0           Third   \n",
       "4  25005     bmw       x5     Jaipur   59524.0  Fourth & Above   \n",
       "\n",
       "   manufacture_year  Age of car  engine_displacement  engine_power body_type  \\\n",
       "0              1964          55                 1964         147.0   compact   \n",
       "1              2012           7                 1242          51.0       NaN   \n",
       "2              2014           5                 1995         105.0       NaN   \n",
       "3              2011           8                 1618         140.0       NaN   \n",
       "4              2012           7                 2993         180.0       NaN   \n",
       "\n",
       "   Vroom Audit Rating transmission door_count seat_count fuel_type       Price  \n",
       "0                   8          man       None       None    petrol   543764.25  \n",
       "1                   6          man          4          4    petrol   401819.25  \n",
       "2                   7         auto          4          5    diesel  2392855.50  \n",
       "3                   7          man          4          5    petrol   958606.50  \n",
       "4                   7         auto          4          5    diesel  3085561.50  "
      ]
     },
     "execution_count": 10,
     "metadata": {},
     "output_type": "execute_result"
    }
   ],
   "source": [
    "df.head()"
   ]
  },
  {
   "cell_type": "code",
   "execution_count": 11,
   "metadata": {},
   "outputs": [
    {
     "data": {
      "text/plain": [
       "compact    4127\n",
       "van           9\n",
       "Name: body_type, dtype: int64"
      ]
     },
     "execution_count": 11,
     "metadata": {},
     "output_type": "execute_result"
    }
   ],
   "source": [
    "df['body_type'].value_counts()"
   ]
  },
  {
   "cell_type": "code",
   "execution_count": 12,
   "metadata": {},
   "outputs": [],
   "source": [
    "df=df.drop('body_type',axis=1)"
   ]
  },
  {
   "cell_type": "code",
   "execution_count": 13,
   "metadata": {},
   "outputs": [
    {
     "data": {
      "text/plain": [
       "['Maker',\n",
       " 'model',\n",
       " 'Location',\n",
       " 'Owner Type',\n",
       " 'transmission',\n",
       " 'door_count',\n",
       " 'seat_count',\n",
       " 'fuel_type']"
      ]
     },
     "execution_count": 13,
     "metadata": {},
     "output_type": "execute_result"
    }
   ],
   "source": [
    "cat_cols=list(df.select_dtypes(include=['object']).columns)\n",
    "cat_cols"
   ]
  },
  {
   "cell_type": "code",
   "execution_count": 14,
   "metadata": {},
   "outputs": [
    {
     "data": {
      "text/plain": [
       "4       33808\n",
       "5        7630\n",
       "None     7534\n",
       "2        4348\n",
       "3         185\n",
       "6           8\n",
       "1           2\n",
       "Name: door_count, dtype: int64"
      ]
     },
     "execution_count": 14,
     "metadata": {},
     "output_type": "execute_result"
    }
   ],
   "source": [
    "df['door_count'].value_counts()"
   ]
  },
  {
   "cell_type": "code",
   "execution_count": 15,
   "metadata": {},
   "outputs": [
    {
     "data": {
      "text/plain": [
       "5       38824\n",
       "None     8511\n",
       "4        4467\n",
       "7         852\n",
       "2         725\n",
       "3         109\n",
       "6          23\n",
       "9           2\n",
       "1           1\n",
       "8           1\n",
       "Name: seat_count, dtype: int64"
      ]
     },
     "execution_count": 15,
     "metadata": {},
     "output_type": "execute_result"
    }
   ],
   "source": [
    "df['seat_count'].value_counts()"
   ]
  },
  {
   "cell_type": "code",
   "execution_count": 16,
   "metadata": {},
   "outputs": [],
   "source": [
    "df['door_count']=df['door_count'].replace('None',np.nan)"
   ]
  },
  {
   "cell_type": "code",
   "execution_count": 17,
   "metadata": {},
   "outputs": [],
   "source": [
    "df['seat_count']=df['seat_count'].replace('None',np.nan)"
   ]
  },
  {
   "cell_type": "code",
   "execution_count": 18,
   "metadata": {
    "scrolled": false
   },
   "outputs": [
    {
     "data": {
      "text/plain": [
       "distance        12.11\n",
       "engine_power    14.39\n",
       "door_count      75.34\n",
       "seat_count      85.11\n",
       "dtype: float64"
      ]
     },
     "execution_count": 18,
     "metadata": {},
     "output_type": "execute_result"
    }
   ],
   "source": [
    "ms=df.isnull().sum()\n",
    "ms[ms>0]/100"
   ]
  },
  {
   "cell_type": "code",
   "execution_count": 19,
   "metadata": {},
   "outputs": [],
   "source": [
    "df['distance']=df['distance'].fillna(df['distance'].median())"
   ]
  },
  {
   "cell_type": "code",
   "execution_count": 20,
   "metadata": {},
   "outputs": [
    {
     "data": {
      "text/plain": [
       "<matplotlib.axes._subplots.AxesSubplot at 0x1d6afb2c240>"
      ]
     },
     "execution_count": 20,
     "metadata": {},
     "output_type": "execute_result"
    },
    {
     "data": {
      "image/png": "[encoded data removed]",
      "text/plain": [
       "<Figure size 432x288 with 1 Axes>"
      ]
     },
     "metadata": {
      "needs_background": "light"
     },
     "output_type": "display_data"
    }
   ],
   "source": [
    "sns.distplot(df['distance'])"
   ]
  },
  {
   "cell_type": "code",
   "execution_count": 21,
   "metadata": {},
   "outputs": [
    {
     "data": {
      "text/plain": [
       "Id                        0\n",
       "Maker                     0\n",
       "model                     0\n",
       "Location                  0\n",
       "distance                  0\n",
       "Owner Type                0\n",
       "manufacture_year          0\n",
       "Age of car                0\n",
       "engine_displacement       0\n",
       "engine_power           1439\n",
       "Vroom Audit Rating        0\n",
       "transmission              0\n",
       "door_count             7534\n",
       "seat_count             8511\n",
       "fuel_type                 0\n",
       "Price                     0\n",
       "dtype: int64"
      ]
     },
     "execution_count": 21,
     "metadata": {},
     "output_type": "execute_result"
    }
   ],
   "source": [
    "df.isnull().sum()"
   ]
  },
  {
   "cell_type": "code",
   "execution_count": 22,
   "metadata": {},
   "outputs": [],
   "source": [
    "df['engine_power']=df['engine_power'].fillna(df['engine_power'].mean())"
   ]
  },
  {
   "cell_type": "code",
   "execution_count": 23,
   "metadata": {},
   "outputs": [
    {
     "data": {
      "text/plain": [
       "Id                        0\n",
       "Maker                     0\n",
       "model                     0\n",
       "Location                  0\n",
       "distance                  0\n",
       "Owner Type                0\n",
       "manufacture_year          0\n",
       "Age of car                0\n",
       "engine_displacement       0\n",
       "engine_power              0\n",
       "Vroom Audit Rating        0\n",
       "transmission              0\n",
       "door_count             7534\n",
       "seat_count             8511\n",
       "fuel_type                 0\n",
       "Price                     0\n",
       "dtype: int64"
      ]
     },
     "execution_count": 23,
     "metadata": {},
     "output_type": "execute_result"
    }
   ],
   "source": [
    "df.isnull().sum()"
   ]
  },
  {
   "cell_type": "code",
   "execution_count": 24,
   "metadata": {},
   "outputs": [
    {
     "data": {
      "text/plain": [
       "5    38824\n",
       "4     4467\n",
       "7      852\n",
       "2      725\n",
       "3      109\n",
       "6       23\n",
       "9        2\n",
       "1        1\n",
       "8        1\n",
       "Name: seat_count, dtype: int64"
      ]
     },
     "execution_count": 24,
     "metadata": {},
     "output_type": "execute_result"
    }
   ],
   "source": [
    "df['seat_count'].value_counts()"
   ]
  },
  {
   "cell_type": "code",
   "execution_count": 25,
   "metadata": {},
   "outputs": [],
   "source": [
    "df['seat_count']=df['seat_count'].replace(np.nan,'5')"
   ]
  },
  {
   "cell_type": "code",
   "execution_count": 26,
   "metadata": {
    "scrolled": false
   },
   "outputs": [
    {
     "data": {
      "text/plain": [
       "5    47335\n",
       "4     4467\n",
       "7      852\n",
       "2      725\n",
       "3      109\n",
       "6       23\n",
       "9        2\n",
       "1        1\n",
       "8        1\n",
       "Name: seat_count, dtype: int64"
      ]
     },
     "execution_count": 26,
     "metadata": {},
     "output_type": "execute_result"
    }
   ],
   "source": [
    "df['seat_count'].value_counts()"
   ]
  },
  {
   "cell_type": "code",
   "execution_count": 27,
   "metadata": {},
   "outputs": [
    {
     "data": {
      "text/plain": [
       "4    33808\n",
       "5     7630\n",
       "2     4348\n",
       "3      185\n",
       "6        8\n",
       "1        2\n",
       "Name: door_count, dtype: int64"
      ]
     },
     "execution_count": 27,
     "metadata": {},
     "output_type": "execute_result"
    }
   ],
   "source": [
    "df['door_count'].value_counts()"
   ]
  },
  {
   "cell_type": "code",
   "execution_count": 28,
   "metadata": {},
   "outputs": [],
   "source": [
    "df['door_count']=df['door_count'].replace(np.nan,'4')"
   ]
  },
  {
   "cell_type": "code",
   "execution_count": 29,
   "metadata": {},
   "outputs": [
    {
     "data": {
      "text/plain": [
       "4    41342\n",
       "5     7630\n",
       "2     4348\n",
       "3      185\n",
       "6        8\n",
       "1        2\n",
       "Name: door_count, dtype: int64"
      ]
     },
     "execution_count": 29,
     "metadata": {},
     "output_type": "execute_result"
    }
   ],
   "source": [
    "df['door_count'].value_counts()"
   ]
  },
  {
   "cell_type": "code",
   "execution_count": 30,
   "metadata": {},
   "outputs": [
    {
     "data": {
      "text/plain": [
       "Id                     0\n",
       "Maker                  0\n",
       "model                  0\n",
       "Location               0\n",
       "distance               0\n",
       "Owner Type             0\n",
       "manufacture_year       0\n",
       "Age of car             0\n",
       "engine_displacement    0\n",
       "engine_power           0\n",
       "Vroom Audit Rating     0\n",
       "transmission           0\n",
       "door_count             0\n",
       "seat_count             0\n",
       "fuel_type              0\n",
       "Price                  0\n",
       "dtype: int64"
      ]
     },
     "execution_count": 30,
     "metadata": {},
     "output_type": "execute_result"
    }
   ],
   "source": [
    "df.isnull().sum()"
   ]
  },
  {
   "cell_type": "code",
   "execution_count": 31,
   "metadata": {},
   "outputs": [
    {
     "name": "stdout",
     "output_type": "stream",
     "text": [
      "<class 'pandas.core.frame.DataFrame'>\n",
      "RangeIndex: 53515 entries, 0 to 53514\n",
      "Data columns (total 16 columns):\n",
      "Id                     53515 non-null int64\n",
      "Maker                  53515 non-null object\n",
      "model                  53515 non-null object\n",
      "Location               53515 non-null object\n",
      "distance               53515 non-null float64\n",
      "Owner Type             53515 non-null object\n",
      "manufacture_year       53515 non-null int64\n",
      "Age of car             53515 non-null int64\n",
      "engine_displacement    53515 non-null int64\n",
      "engine_power           53515 non-null float64\n",
      "Vroom Audit Rating     53515 non-null int64\n",
      "transmission           53515 non-null object\n",
      "door_count             53515 non-null object\n",
      "seat_count             53515 non-null object\n",
      "fuel_type              53515 non-null object\n",
      "Price                  53515 non-null float64\n",
      "dtypes: float64(3), int64(5), object(8)\n",
      "memory usage: 6.5+ MB\n"
     ]
    }
   ],
   "source": [
    "df.info()"
   ]
  },
  {
   "cell_type": "code",
   "execution_count": 32,
   "metadata": {},
   "outputs": [
    {
     "data": {
      "text/html": [
       "<div>\n",
       "<style scoped>\n",
       "    .dataframe tbody tr th:only-of-type {\n",
       "        vertical-align: middle;\n",
       "    }\n",
       "\n",
       "    .dataframe tbody tr th {\n",
       "        vertical-align: top;\n",
       "    }\n",
       "\n",
       "    .dataframe thead th {\n",
       "        text-align: right;\n",
       "    }\n",
       "</style>\n",
       "<table border=\"1\" class=\"dataframe\">\n",
       "  <thead>\n",
       "    <tr style=\"text-align: right;\">\n",
       "      <th></th>\n",
       "      <th>Id</th>\n",
       "      <th>Maker</th>\n",
       "      <th>model</th>\n",
       "      <th>Location</th>\n",
       "      <th>distance</th>\n",
       "      <th>Owner Type</th>\n",
       "      <th>manufacture_year</th>\n",
       "      <th>Age of car</th>\n",
       "      <th>engine_displacement</th>\n",
       "      <th>engine_power</th>\n",
       "      <th>Vroom Audit Rating</th>\n",
       "      <th>transmission</th>\n",
       "      <th>door_count</th>\n",
       "      <th>seat_count</th>\n",
       "      <th>fuel_type</th>\n",
       "      <th>Price</th>\n",
       "    </tr>\n",
       "  </thead>\n",
       "  <tbody>\n",
       "    <tr>\n",
       "      <th>0</th>\n",
       "      <td>25001</td>\n",
       "      <td>skoda</td>\n",
       "      <td>octavia</td>\n",
       "      <td>Ahmedabad</td>\n",
       "      <td>65520.0</td>\n",
       "      <td>Second</td>\n",
       "      <td>1964</td>\n",
       "      <td>55</td>\n",
       "      <td>1964</td>\n",
       "      <td>147.0</td>\n",
       "      <td>8</td>\n",
       "      <td>man</td>\n",
       "      <td>4</td>\n",
       "      <td>5</td>\n",
       "      <td>petrol</td>\n",
       "      <td>543764.25</td>\n",
       "    </tr>\n",
       "    <tr>\n",
       "      <th>1</th>\n",
       "      <td>25002</td>\n",
       "      <td>fiat</td>\n",
       "      <td>panda</td>\n",
       "      <td>Ahmedabad</td>\n",
       "      <td>27750.0</td>\n",
       "      <td>Third</td>\n",
       "      <td>2012</td>\n",
       "      <td>7</td>\n",
       "      <td>1242</td>\n",
       "      <td>51.0</td>\n",
       "      <td>6</td>\n",
       "      <td>man</td>\n",
       "      <td>4</td>\n",
       "      <td>4</td>\n",
       "      <td>petrol</td>\n",
       "      <td>401819.25</td>\n",
       "    </tr>\n",
       "    <tr>\n",
       "      <th>2</th>\n",
       "      <td>25003</td>\n",
       "      <td>bmw</td>\n",
       "      <td>x1</td>\n",
       "      <td>Hyderabad</td>\n",
       "      <td>46000.0</td>\n",
       "      <td>Third</td>\n",
       "      <td>2014</td>\n",
       "      <td>5</td>\n",
       "      <td>1995</td>\n",
       "      <td>105.0</td>\n",
       "      <td>7</td>\n",
       "      <td>auto</td>\n",
       "      <td>4</td>\n",
       "      <td>5</td>\n",
       "      <td>diesel</td>\n",
       "      <td>2392855.50</td>\n",
       "    </tr>\n",
       "    <tr>\n",
       "      <th>3</th>\n",
       "      <td>25004</td>\n",
       "      <td>nissan</td>\n",
       "      <td>juke</td>\n",
       "      <td>Mumbai</td>\n",
       "      <td>43949.0</td>\n",
       "      <td>Third</td>\n",
       "      <td>2011</td>\n",
       "      <td>8</td>\n",
       "      <td>1618</td>\n",
       "      <td>140.0</td>\n",
       "      <td>7</td>\n",
       "      <td>man</td>\n",
       "      <td>4</td>\n",
       "      <td>5</td>\n",
       "      <td>petrol</td>\n",
       "      <td>958606.50</td>\n",
       "    </tr>\n",
       "    <tr>\n",
       "      <th>4</th>\n",
       "      <td>25005</td>\n",
       "      <td>bmw</td>\n",
       "      <td>x5</td>\n",
       "      <td>Jaipur</td>\n",
       "      <td>59524.0</td>\n",
       "      <td>Fourth &amp; Above</td>\n",
       "      <td>2012</td>\n",
       "      <td>7</td>\n",
       "      <td>2993</td>\n",
       "      <td>180.0</td>\n",
       "      <td>7</td>\n",
       "      <td>auto</td>\n",
       "      <td>4</td>\n",
       "      <td>5</td>\n",
       "      <td>diesel</td>\n",
       "      <td>3085561.50</td>\n",
       "    </tr>\n",
       "  </tbody>\n",
       "</table>\n",
       "</div>"
      ],
      "text/plain": [
       "      Id   Maker    model   Location  distance      Owner Type  \\\n",
       "0  25001   skoda  octavia  Ahmedabad   65520.0          Second   \n",
       "1  25002    fiat    panda  Ahmedabad   27750.0           Third   \n",
       "2  25003     bmw       x1  Hyderabad   46000.0           Third   \n",
       "3  25004  nissan     juke     Mumbai   43949.0           Third   \n",
       "4  25005     bmw       x5     Jaipur   59524.0  Fourth & Above   \n",
       "\n",
       "   manufacture_year  Age of car  engine_displacement  engine_power  \\\n",
       "0              1964          55                 1964         147.0   \n",
       "1              2012           7                 1242          51.0   \n",
       "2              2014           5                 1995         105.0   \n",
       "3              2011           8                 1618         140.0   \n",
       "4              2012           7                 2993         180.0   \n",
       "\n",
       "   Vroom Audit Rating transmission door_count seat_count fuel_type       Price  \n",
       "0                   8          man          4          5    petrol   543764.25  \n",
       "1                   6          man          4          4    petrol   401819.25  \n",
       "2                   7         auto          4          5    diesel  2392855.50  \n",
       "3                   7          man          4          5    petrol   958606.50  \n",
       "4                   7         auto          4          5    diesel  3085561.50  "
      ]
     },
     "execution_count": 32,
     "metadata": {},
     "output_type": "execute_result"
    }
   ],
   "source": [
    "df.head()"
   ]
  },
  {
   "cell_type": "code",
   "execution_count": 33,
   "metadata": {
    "scrolled": true
   },
   "outputs": [
    {
     "data": {
      "text/plain": [
       "['Maker',\n",
       " 'model',\n",
       " 'Location',\n",
       " 'Owner Type',\n",
       " 'transmission',\n",
       " 'door_count',\n",
       " 'seat_count',\n",
       " 'fuel_type']"
      ]
     },
     "execution_count": 33,
     "metadata": {},
     "output_type": "execute_result"
    }
   ],
   "source": [
    "cat_cols=list(df.select_dtypes(include=['object']).columns)\n",
    "cat_cols"
   ]
  },
  {
   "cell_type": "code",
   "execution_count": 34,
   "metadata": {},
   "outputs": [],
   "source": [
    "from sklearn.preprocessing import LabelEncoder"
   ]
  },
  {
   "cell_type": "code",
   "execution_count": 35,
   "metadata": {},
   "outputs": [],
   "source": [
    "le=LabelEncoder()"
   ]
  },
  {
   "cell_type": "code",
   "execution_count": 36,
   "metadata": {
    "scrolled": true
   },
   "outputs": [
    {
     "data": {
      "text/html": [
       "<div>\n",
       "<style scoped>\n",
       "    .dataframe tbody tr th:only-of-type {\n",
       "        vertical-align: middle;\n",
       "    }\n",
       "\n",
       "    .dataframe tbody tr th {\n",
       "        vertical-align: top;\n",
       "    }\n",
       "\n",
       "    .dataframe thead th {\n",
       "        text-align: right;\n",
       "    }\n",
       "</style>\n",
       "<table border=\"1\" class=\"dataframe\">\n",
       "  <thead>\n",
       "    <tr style=\"text-align: right;\">\n",
       "      <th></th>\n",
       "      <th>Id</th>\n",
       "      <th>Maker</th>\n",
       "      <th>model</th>\n",
       "      <th>Location</th>\n",
       "      <th>distance</th>\n",
       "      <th>Owner Type</th>\n",
       "      <th>manufacture_year</th>\n",
       "      <th>Age of car</th>\n",
       "      <th>engine_displacement</th>\n",
       "      <th>engine_power</th>\n",
       "      <th>Vroom Audit Rating</th>\n",
       "      <th>transmission</th>\n",
       "      <th>door_count</th>\n",
       "      <th>seat_count</th>\n",
       "      <th>fuel_type</th>\n",
       "      <th>Price</th>\n",
       "    </tr>\n",
       "  </thead>\n",
       "  <tbody>\n",
       "    <tr>\n",
       "      <th>0</th>\n",
       "      <td>25001</td>\n",
       "      <td>6</td>\n",
       "      <td>octavia</td>\n",
       "      <td>0</td>\n",
       "      <td>65520.0</td>\n",
       "      <td>2</td>\n",
       "      <td>1964</td>\n",
       "      <td>55</td>\n",
       "      <td>1964</td>\n",
       "      <td>147.0</td>\n",
       "      <td>8</td>\n",
       "      <td>1</td>\n",
       "      <td>4</td>\n",
       "      <td>5</td>\n",
       "      <td>1</td>\n",
       "      <td>543764.25</td>\n",
       "    </tr>\n",
       "    <tr>\n",
       "      <th>1</th>\n",
       "      <td>25002</td>\n",
       "      <td>2</td>\n",
       "      <td>panda</td>\n",
       "      <td>0</td>\n",
       "      <td>27750.0</td>\n",
       "      <td>3</td>\n",
       "      <td>2012</td>\n",
       "      <td>7</td>\n",
       "      <td>1242</td>\n",
       "      <td>51.0</td>\n",
       "      <td>6</td>\n",
       "      <td>1</td>\n",
       "      <td>4</td>\n",
       "      <td>4</td>\n",
       "      <td>1</td>\n",
       "      <td>401819.25</td>\n",
       "    </tr>\n",
       "    <tr>\n",
       "      <th>2</th>\n",
       "      <td>25003</td>\n",
       "      <td>1</td>\n",
       "      <td>x1</td>\n",
       "      <td>5</td>\n",
       "      <td>46000.0</td>\n",
       "      <td>3</td>\n",
       "      <td>2014</td>\n",
       "      <td>5</td>\n",
       "      <td>1995</td>\n",
       "      <td>105.0</td>\n",
       "      <td>7</td>\n",
       "      <td>0</td>\n",
       "      <td>4</td>\n",
       "      <td>5</td>\n",
       "      <td>0</td>\n",
       "      <td>2392855.50</td>\n",
       "    </tr>\n",
       "    <tr>\n",
       "      <th>3</th>\n",
       "      <td>25004</td>\n",
       "      <td>5</td>\n",
       "      <td>juke</td>\n",
       "      <td>9</td>\n",
       "      <td>43949.0</td>\n",
       "      <td>3</td>\n",
       "      <td>2011</td>\n",
       "      <td>8</td>\n",
       "      <td>1618</td>\n",
       "      <td>140.0</td>\n",
       "      <td>7</td>\n",
       "      <td>1</td>\n",
       "      <td>4</td>\n",
       "      <td>5</td>\n",
       "      <td>1</td>\n",
       "      <td>958606.50</td>\n",
       "    </tr>\n",
       "    <tr>\n",
       "      <th>4</th>\n",
       "      <td>25005</td>\n",
       "      <td>1</td>\n",
       "      <td>x5</td>\n",
       "      <td>6</td>\n",
       "      <td>59524.0</td>\n",
       "      <td>1</td>\n",
       "      <td>2012</td>\n",
       "      <td>7</td>\n",
       "      <td>2993</td>\n",
       "      <td>180.0</td>\n",
       "      <td>7</td>\n",
       "      <td>0</td>\n",
       "      <td>4</td>\n",
       "      <td>5</td>\n",
       "      <td>0</td>\n",
       "      <td>3085561.50</td>\n",
       "    </tr>\n",
       "  </tbody>\n",
       "</table>\n",
       "</div>"
      ],
      "text/plain": [
       "      Id  Maker    model  Location  distance  Owner Type  manufacture_year  \\\n",
       "0  25001      6  octavia         0   65520.0           2              1964   \n",
       "1  25002      2    panda         0   27750.0           3              2012   \n",
       "2  25003      1       x1         5   46000.0           3              2014   \n",
       "3  25004      5     juke         9   43949.0           3              2011   \n",
       "4  25005      1       x5         6   59524.0           1              2012   \n",
       "\n",
       "   Age of car  engine_displacement  engine_power  Vroom Audit Rating  \\\n",
       "0          55                 1964         147.0                   8   \n",
       "1           7                 1242          51.0                   6   \n",
       "2           5                 1995         105.0                   7   \n",
       "3           8                 1618         140.0                   7   \n",
       "4           7                 2993         180.0                   7   \n",
       "\n",
       "   transmission door_count seat_count  fuel_type       Price  \n",
       "0             1          4          5          1   543764.25  \n",
       "1             1          4          4          1   401819.25  \n",
       "2             0          4          5          0  2392855.50  \n",
       "3             1          4          5          1   958606.50  \n",
       "4             0          4          5          0  3085561.50  "
      ]
     },
     "execution_count": 36,
     "metadata": {},
     "output_type": "execute_result"
    }
   ],
   "source": [
    "le=LabelEncoder\n",
    "le=LabelEncoder()    # label encoding\n",
    "df['Maker']=le.fit_transform(df['Maker']) \n",
    "df['fuel_type']=le.fit_transform(df['fuel_type'])\n",
    "df['transmission']=le.fit_transform(df['transmission'])\n",
    "\n",
    "df['Owner Type']=le.fit_transform(df['Owner Type'])\n",
    "df['Location']=le.fit_transform(df['Location'])\n",
    "df.head()"
   ]
  },
  {
   "cell_type": "code",
   "execution_count": 37,
   "metadata": {},
   "outputs": [],
   "source": [
    "df['model']=le.fit_transform(df['model']) \n",
    "df['door_count']=le.fit_transform(df['door_count']) \n",
    "df['seat_count']=le.fit_transform(df['seat_count']) "
   ]
  },
  {
   "cell_type": "code",
   "execution_count": 38,
   "metadata": {},
   "outputs": [
    {
     "data": {
      "text/html": [
       "<div>\n",
       "<style scoped>\n",
       "    .dataframe tbody tr th:only-of-type {\n",
       "        vertical-align: middle;\n",
       "    }\n",
       "\n",
       "    .dataframe tbody tr th {\n",
       "        vertical-align: top;\n",
       "    }\n",
       "\n",
       "    .dataframe thead th {\n",
       "        text-align: right;\n",
       "    }\n",
       "</style>\n",
       "<table border=\"1\" class=\"dataframe\">\n",
       "  <thead>\n",
       "    <tr style=\"text-align: right;\">\n",
       "      <th></th>\n",
       "      <th>Id</th>\n",
       "      <th>Maker</th>\n",
       "      <th>model</th>\n",
       "      <th>Location</th>\n",
       "      <th>distance</th>\n",
       "      <th>Owner Type</th>\n",
       "      <th>manufacture_year</th>\n",
       "      <th>Age of car</th>\n",
       "      <th>engine_displacement</th>\n",
       "      <th>engine_power</th>\n",
       "      <th>Vroom Audit Rating</th>\n",
       "      <th>transmission</th>\n",
       "      <th>door_count</th>\n",
       "      <th>seat_count</th>\n",
       "      <th>fuel_type</th>\n",
       "      <th>Price</th>\n",
       "    </tr>\n",
       "  </thead>\n",
       "  <tbody>\n",
       "    <tr>\n",
       "      <th>0</th>\n",
       "      <td>25001</td>\n",
       "      <td>6</td>\n",
       "      <td>8</td>\n",
       "      <td>0</td>\n",
       "      <td>65520.0</td>\n",
       "      <td>2</td>\n",
       "      <td>1964</td>\n",
       "      <td>55</td>\n",
       "      <td>1964</td>\n",
       "      <td>147.0</td>\n",
       "      <td>8</td>\n",
       "      <td>1</td>\n",
       "      <td>3</td>\n",
       "      <td>4</td>\n",
       "      <td>1</td>\n",
       "      <td>543764.25</td>\n",
       "    </tr>\n",
       "    <tr>\n",
       "      <th>1</th>\n",
       "      <td>25002</td>\n",
       "      <td>2</td>\n",
       "      <td>9</td>\n",
       "      <td>0</td>\n",
       "      <td>27750.0</td>\n",
       "      <td>3</td>\n",
       "      <td>2012</td>\n",
       "      <td>7</td>\n",
       "      <td>1242</td>\n",
       "      <td>51.0</td>\n",
       "      <td>6</td>\n",
       "      <td>1</td>\n",
       "      <td>3</td>\n",
       "      <td>3</td>\n",
       "      <td>1</td>\n",
       "      <td>401819.25</td>\n",
       "    </tr>\n",
       "    <tr>\n",
       "      <th>2</th>\n",
       "      <td>25003</td>\n",
       "      <td>1</td>\n",
       "      <td>18</td>\n",
       "      <td>5</td>\n",
       "      <td>46000.0</td>\n",
       "      <td>3</td>\n",
       "      <td>2014</td>\n",
       "      <td>5</td>\n",
       "      <td>1995</td>\n",
       "      <td>105.0</td>\n",
       "      <td>7</td>\n",
       "      <td>0</td>\n",
       "      <td>3</td>\n",
       "      <td>4</td>\n",
       "      <td>0</td>\n",
       "      <td>2392855.50</td>\n",
       "    </tr>\n",
       "    <tr>\n",
       "      <th>3</th>\n",
       "      <td>25004</td>\n",
       "      <td>5</td>\n",
       "      <td>6</td>\n",
       "      <td>9</td>\n",
       "      <td>43949.0</td>\n",
       "      <td>3</td>\n",
       "      <td>2011</td>\n",
       "      <td>8</td>\n",
       "      <td>1618</td>\n",
       "      <td>140.0</td>\n",
       "      <td>7</td>\n",
       "      <td>1</td>\n",
       "      <td>3</td>\n",
       "      <td>4</td>\n",
       "      <td>1</td>\n",
       "      <td>958606.50</td>\n",
       "    </tr>\n",
       "    <tr>\n",
       "      <th>4</th>\n",
       "      <td>25005</td>\n",
       "      <td>1</td>\n",
       "      <td>20</td>\n",
       "      <td>6</td>\n",
       "      <td>59524.0</td>\n",
       "      <td>1</td>\n",
       "      <td>2012</td>\n",
       "      <td>7</td>\n",
       "      <td>2993</td>\n",
       "      <td>180.0</td>\n",
       "      <td>7</td>\n",
       "      <td>0</td>\n",
       "      <td>3</td>\n",
       "      <td>4</td>\n",
       "      <td>0</td>\n",
       "      <td>3085561.50</td>\n",
       "    </tr>\n",
       "  </tbody>\n",
       "</table>\n",
       "</div>"
      ],
      "text/plain": [
       "      Id  Maker  model  Location  distance  Owner Type  manufacture_year  \\\n",
       "0  25001      6      8         0   65520.0           2              1964   \n",
       "1  25002      2      9         0   27750.0           3              2012   \n",
       "2  25003      1     18         5   46000.0           3              2014   \n",
       "3  25004      5      6         9   43949.0           3              2011   \n",
       "4  25005      1     20         6   59524.0           1              2012   \n",
       "\n",
       "   Age of car  engine_displacement  engine_power  Vroom Audit Rating  \\\n",
       "0          55                 1964         147.0                   8   \n",
       "1           7                 1242          51.0                   6   \n",
       "2           5                 1995         105.0                   7   \n",
       "3           8                 1618         140.0                   7   \n",
       "4           7                 2993         180.0                   7   \n",
       "\n",
       "   transmission  door_count  seat_count  fuel_type       Price  \n",
       "0             1           3           4          1   543764.25  \n",
       "1             1           3           3          1   401819.25  \n",
       "2             0           3           4          0  2392855.50  \n",
       "3             1           3           4          1   958606.50  \n",
       "4             0           3           4          0  3085561.50  "
      ]
     },
     "execution_count": 38,
     "metadata": {},
     "output_type": "execute_result"
    }
   ],
   "source": [
    "df.head()"
   ]
  },
  {
   "cell_type": "code",
   "execution_count": 39,
   "metadata": {},
   "outputs": [
    {
     "name": "stdout",
     "output_type": "stream",
     "text": [
      "<class 'pandas.core.frame.DataFrame'>\n",
      "RangeIndex: 53515 entries, 0 to 53514\n",
      "Data columns (total 16 columns):\n",
      "Id                     53515 non-null int64\n",
      "Maker                  53515 non-null int32\n",
      "model                  53515 non-null int32\n",
      "Location               53515 non-null int32\n",
      "distance               53515 non-null float64\n",
      "Owner Type             53515 non-null int32\n",
      "manufacture_year       53515 non-null int64\n",
      "Age of car             53515 non-null int64\n",
      "engine_displacement    53515 non-null int64\n",
      "engine_power           53515 non-null float64\n",
      "Vroom Audit Rating     53515 non-null int64\n",
      "transmission           53515 non-null int32\n",
      "door_count             53515 non-null int32\n",
      "seat_count             53515 non-null int32\n",
      "fuel_type              53515 non-null int32\n",
      "Price                  53515 non-null float64\n",
      "dtypes: float64(3), int32(8), int64(5)\n",
      "memory usage: 4.9 MB\n"
     ]
    }
   ],
   "source": [
    "df.info()"
   ]
  },
  {
   "cell_type": "code",
   "execution_count": 40,
   "metadata": {},
   "outputs": [
    {
     "data": {
      "text/plain": [
       "Price                  1.000000\n",
       "engine_power           0.621601\n",
       "manufacture_year       0.506707\n",
       "model                  0.239013\n",
       "engine_displacement    0.162072\n",
       "seat_count             0.081610\n",
       "Vroom Audit Rating     0.005109\n",
       "Id                     0.003195\n",
       "Owner Type            -0.003125\n",
       "Location              -0.003695\n",
       "Name: Price, dtype: float64"
      ]
     },
     "execution_count": 40,
     "metadata": {},
     "output_type": "execute_result"
    }
   ],
   "source": [
    "df.corr()['Price'].nlargest(10)"
   ]
  },
  {
   "cell_type": "code",
   "execution_count": 41,
   "metadata": {},
   "outputs": [],
   "source": [
    "df=df.drop(['Id','manufacture_year'],axis=1)"
   ]
  },
  {
   "cell_type": "code",
   "execution_count": 42,
   "metadata": {},
   "outputs": [
    {
     "data": {
      "text/plain": [
       "Price                  1.000000\n",
       "engine_power           0.621601\n",
       "Maker                  0.568821\n",
       "Age of car             0.506707\n",
       "transmission           0.499240\n",
       "fuel_type              0.316354\n",
       "model                  0.239013\n",
       "engine_displacement    0.162072\n",
       "distance               0.155366\n",
       "seat_count             0.081610\n",
       "Name: Price, dtype: float64"
      ]
     },
     "execution_count": 42,
     "metadata": {},
     "output_type": "execute_result"
    }
   ],
   "source": [
    "df.corr()['Price'].abs().nlargest(10)"
   ]
  },
  {
   "cell_type": "code",
   "execution_count": 43,
   "metadata": {},
   "outputs": [
    {
     "data": {
      "text/plain": [
       "Price                  1.000000\n",
       "engine_power           0.621601\n",
       "model                  0.239013\n",
       "engine_displacement    0.162072\n",
       "seat_count             0.081610\n",
       "Vroom Audit Rating     0.005109\n",
       "Owner Type            -0.003125\n",
       "Location              -0.003695\n",
       "door_count            -0.050817\n",
       "distance              -0.155366\n",
       "Name: Price, dtype: float64"
      ]
     },
     "execution_count": 43,
     "metadata": {},
     "output_type": "execute_result"
    }
   ],
   "source": [
    "df.corr()['Price'].nlargest(10)"
   ]
  },
  {
   "cell_type": "code",
   "execution_count": 44,
   "metadata": {},
   "outputs": [
    {
     "data": {
      "text/plain": [
       "Maker                 -0.568821\n",
       "model                  0.239013\n",
       "Location              -0.003695\n",
       "distance              -0.155366\n",
       "Owner Type            -0.003125\n",
       "Age of car            -0.506707\n",
       "engine_displacement    0.162072\n",
       "engine_power           0.621601\n",
       "Vroom Audit Rating     0.005109\n",
       "transmission          -0.499240\n",
       "door_count            -0.050817\n",
       "seat_count             0.081610\n",
       "fuel_type             -0.316354\n",
       "Price                  1.000000\n",
       "Name: Price, dtype: float64"
      ]
     },
     "execution_count": 44,
     "metadata": {},
     "output_type": "execute_result"
    }
   ],
   "source": [
    "df.corr()['Price']"
   ]
  },
  {
   "cell_type": "code",
   "execution_count": 45,
   "metadata": {},
   "outputs": [],
   "source": [
    "from sklearn.model_selection import train_test_split\n",
    "y=df['Price']\n",
    "X=df.drop('Price',axis=1)"
   ]
  },
  {
   "cell_type": "code",
   "execution_count": 46,
   "metadata": {},
   "outputs": [],
   "source": [
    "import statsmodels.api as sm\n",
    "import warnings\n",
    "warnings.filterwarnings('ignore')"
   ]
  },
  {
   "cell_type": "code",
   "execution_count": null,
   "metadata": {},
   "outputs": [],
   "source": []
  },
  {
   "cell_type": "code",
   "execution_count": 48,
   "metadata": {},
   "outputs": [],
   "source": [
    "X_train, X_test, y_train, y_test = train_test_split(X, y, test_size=0.30, random_state=0)"
   ]
  },
  {
   "cell_type": "code",
   "execution_count": 49,
   "metadata": {},
   "outputs": [
    {
     "data": {
      "text/html": [
       "<table class=\"simpletable\">\n",
       "<caption>OLS Regression Results</caption>\n",
       "<tr>\n",
       "  <th>Dep. Variable:</th>          <td>Price</td>      <th>  R-squared (uncentered):</th>       <td>   0.874</td>  \n",
       "</tr>\n",
       "<tr>\n",
       "  <th>Model:</th>                   <td>OLS</td>       <th>  Adj. R-squared (uncentered):</th>  <td>   0.874</td>  \n",
       "</tr>\n",
       "<tr>\n",
       "  <th>Method:</th>             <td>Least Squares</td>  <th>  F-statistic:       </th>           <td>1.999e+04</td> \n",
       "</tr>\n",
       "<tr>\n",
       "  <th>Date:</th>             <td>Fri, 27 Dec 2019</td> <th>  Prob (F-statistic):</th>            <td>  0.00</td>   \n",
       "</tr>\n",
       "<tr>\n",
       "  <th>Time:</th>                 <td>14:22:48</td>     <th>  Log-Likelihood:    </th>          <td>-5.4422e+05</td>\n",
       "</tr>\n",
       "<tr>\n",
       "  <th>No. Observations:</th>      <td> 37460</td>      <th>  AIC:               </th>           <td>1.088e+06</td> \n",
       "</tr>\n",
       "<tr>\n",
       "  <th>Df Residuals:</th>          <td> 37447</td>      <th>  BIC:               </th>           <td>1.089e+06</td> \n",
       "</tr>\n",
       "<tr>\n",
       "  <th>Df Model:</th>              <td>    13</td>      <th>                     </th>               <td> </td>     \n",
       "</tr>\n",
       "<tr>\n",
       "  <th>Covariance Type:</th>      <td>nonrobust</td>    <th>                     </th>               <td> </td>     \n",
       "</tr>\n",
       "</table>\n",
       "<table class=\"simpletable\">\n",
       "<tr>\n",
       "           <td></td>              <th>coef</th>     <th>std err</th>      <th>t</th>      <th>P>|t|</th>  <th>[0.025</th>    <th>0.975]</th>  \n",
       "</tr>\n",
       "<tr>\n",
       "  <th>Maker</th>               <td> -7.78e+04</td> <td> 1308.774</td> <td>  -59.448</td> <td> 0.000</td> <td>-8.04e+04</td> <td>-7.52e+04</td>\n",
       "</tr>\n",
       "<tr>\n",
       "  <th>model</th>               <td> 6134.2371</td> <td>  437.966</td> <td>   14.006</td> <td> 0.000</td> <td> 5275.811</td> <td> 6992.663</td>\n",
       "</tr>\n",
       "<tr>\n",
       "  <th>Location</th>            <td> 6766.2591</td> <td>  799.643</td> <td>    8.462</td> <td> 0.000</td> <td> 5198.937</td> <td> 8333.581</td>\n",
       "</tr>\n",
       "<tr>\n",
       "  <th>distance</th>            <td>   -0.1769</td> <td>    0.009</td> <td>  -18.709</td> <td> 0.000</td> <td>   -0.195</td> <td>   -0.158</td>\n",
       "</tr>\n",
       "<tr>\n",
       "  <th>Owner Type</th>          <td> 9848.9729</td> <td> 2264.462</td> <td>    4.349</td> <td> 0.000</td> <td> 5410.565</td> <td> 1.43e+04</td>\n",
       "</tr>\n",
       "<tr>\n",
       "  <th>Age of car</th>          <td>-7.396e+04</td> <td>  566.437</td> <td> -130.562</td> <td> 0.000</td> <td>-7.51e+04</td> <td>-7.28e+04</td>\n",
       "</tr>\n",
       "<tr>\n",
       "  <th>engine_displacement</th> <td>    4.2296</td> <td>    1.866</td> <td>    2.266</td> <td> 0.023</td> <td>    0.572</td> <td>    7.887</td>\n",
       "</tr>\n",
       "<tr>\n",
       "  <th>engine_power</th>        <td> 7989.0029</td> <td>   72.514</td> <td>  110.172</td> <td> 0.000</td> <td> 7846.874</td> <td> 8131.132</td>\n",
       "</tr>\n",
       "<tr>\n",
       "  <th>Vroom Audit Rating</th>  <td> 4.024e+04</td> <td> 1653.043</td> <td>   24.345</td> <td> 0.000</td> <td>  3.7e+04</td> <td> 4.35e+04</td>\n",
       "</tr>\n",
       "<tr>\n",
       "  <th>transmission</th>        <td>-1.632e+05</td> <td> 6250.892</td> <td>  -26.110</td> <td> 0.000</td> <td>-1.75e+05</td> <td>-1.51e+05</td>\n",
       "</tr>\n",
       "<tr>\n",
       "  <th>door_count</th>          <td>-2.809e+04</td> <td> 4265.739</td> <td>   -6.585</td> <td> 0.000</td> <td>-3.64e+04</td> <td>-1.97e+04</td>\n",
       "</tr>\n",
       "<tr>\n",
       "  <th>seat_count</th>          <td> 2.841e+05</td> <td> 4594.842</td> <td>   61.820</td> <td> 0.000</td> <td> 2.75e+05</td> <td> 2.93e+05</td>\n",
       "</tr>\n",
       "<tr>\n",
       "  <th>fuel_type</th>           <td>-2.252e+04</td> <td> 5441.945</td> <td>   -4.139</td> <td> 0.000</td> <td>-3.32e+04</td> <td>-1.19e+04</td>\n",
       "</tr>\n",
       "</table>\n",
       "<table class=\"simpletable\">\n",
       "<tr>\n",
       "  <th>Omnibus:</th>       <td>39777.025</td> <th>  Durbin-Watson:     </th>   <td>   2.018</td>  \n",
       "</tr>\n",
       "<tr>\n",
       "  <th>Prob(Omnibus):</th>  <td> 0.000</td>   <th>  Jarque-Bera (JB):  </th> <td>21331683.661</td>\n",
       "</tr>\n",
       "<tr>\n",
       "  <th>Skew:</th>           <td> 4.631</td>   <th>  Prob(JB):          </th>   <td>    0.00</td>  \n",
       "</tr>\n",
       "<tr>\n",
       "  <th>Kurtosis:</th>       <td>119.538</td>  <th>  Cond. No.          </th>   <td>7.35e+05</td>  \n",
       "</tr>\n",
       "</table><br/><br/>Warnings:<br/>[1] Standard Errors assume that the covariance matrix of the errors is correctly specified.<br/>[2] The condition number is large, 7.35e+05. This might indicate that there are<br/>strong multicollinearity or other numerical problems."
      ],
      "text/plain": [
       "<class 'statsmodels.iolib.summary.Summary'>\n",
       "\"\"\"\n",
       "                                 OLS Regression Results                                \n",
       "=======================================================================================\n",
       "Dep. Variable:                  Price   R-squared (uncentered):                   0.874\n",
       "Model:                            OLS   Adj. R-squared (uncentered):              0.874\n",
       "Method:                 Least Squares   F-statistic:                          1.999e+04\n",
       "Date:                Fri, 27 Dec 2019   Prob (F-statistic):                        0.00\n",
       "Time:                        14:22:48   Log-Likelihood:                     -5.4422e+05\n",
       "No. Observations:               37460   AIC:                                  1.088e+06\n",
       "Df Residuals:                   37447   BIC:                                  1.089e+06\n",
       "Df Model:                          13                                                  \n",
       "Covariance Type:            nonrobust                                                  \n",
       "=======================================================================================\n",
       "                          coef    std err          t      P>|t|      [0.025      0.975]\n",
       "---------------------------------------------------------------------------------------\n",
       "Maker                -7.78e+04   1308.774    -59.448      0.000   -8.04e+04   -7.52e+04\n",
       "model                6134.2371    437.966     14.006      0.000    5275.811    6992.663\n",
       "Location             6766.2591    799.643      8.462      0.000    5198.937    8333.581\n",
       "distance               -0.1769      0.009    -18.709      0.000      -0.195      -0.158\n",
       "Owner Type           9848.9729   2264.462      4.349      0.000    5410.565    1.43e+04\n",
       "Age of car          -7.396e+04    566.437   -130.562      0.000   -7.51e+04   -7.28e+04\n",
       "engine_displacement     4.2296      1.866      2.266      0.023       0.572       7.887\n",
       "engine_power         7989.0029     72.514    110.172      0.000    7846.874    8131.132\n",
       "Vroom Audit Rating   4.024e+04   1653.043     24.345      0.000     3.7e+04    4.35e+04\n",
       "transmission        -1.632e+05   6250.892    -26.110      0.000   -1.75e+05   -1.51e+05\n",
       "door_count          -2.809e+04   4265.739     -6.585      0.000   -3.64e+04   -1.97e+04\n",
       "seat_count           2.841e+05   4594.842     61.820      0.000    2.75e+05    2.93e+05\n",
       "fuel_type           -2.252e+04   5441.945     -4.139      0.000   -3.32e+04   -1.19e+04\n",
       "==============================================================================\n",
       "Omnibus:                    39777.025   Durbin-Watson:                   2.018\n",
       "Prob(Omnibus):                  0.000   Jarque-Bera (JB):         21331683.661\n",
       "Skew:                           4.631   Prob(JB):                         0.00\n",
       "Kurtosis:                     119.538   Cond. No.                     7.35e+05\n",
       "==============================================================================\n",
       "\n",
       "Warnings:\n",
       "[1] Standard Errors assume that the covariance matrix of the errors is correctly specified.\n",
       "[2] The condition number is large, 7.35e+05. This might indicate that there are\n",
       "strong multicollinearity or other numerical problems.\n",
       "\"\"\""
      ]
     },
     "execution_count": 49,
     "metadata": {},
     "output_type": "execute_result"
    }
   ],
   "source": [
    "lin_reg=sm.OLS(y_train,X_train) #building stats model in tain dataset\n",
    "result=lin_reg.fit()\n",
    "result.summary() #p>alpha accept h0 coeff=0 insignificant"
   ]
  },
  {
   "cell_type": "code",
   "execution_count": 50,
   "metadata": {},
   "outputs": [],
   "source": [
    "X_train, X_test, y_train, y_test = train_test_split(X, y, test_size=0.30, random_state=33)"
   ]
  },
  {
   "cell_type": "code",
   "execution_count": 51,
   "metadata": {},
   "outputs": [
    {
     "name": "stdout",
     "output_type": "stream",
     "text": [
      "R2 of train  0.6940409638147178\n",
      "RMSE of train 466562.7644999738\n"
     ]
    }
   ],
   "source": [
    "from sklearn.linear_model import LinearRegression\n",
    "from sklearn.metrics import r2_score,mean_squared_error\n",
    "\n",
    "lr=LinearRegression(fit_intercept=True)\n",
    "\n",
    "lr.fit(X_train,y_train)\n",
    "\n",
    "y_pred_train=lr.predict(X_train)\n",
    "\n",
    "print('R2 of train ',r2_score(y_train,y_pred_train))\n",
    "print('RMSE of train',np.sqrt(mean_squared_error(y_train,y_pred_train)))"
   ]
  },
  {
   "cell_type": "code",
   "execution_count": 52,
   "metadata": {},
   "outputs": [],
   "source": [
    "y_pred_test=lr.predict(X_test)"
   ]
  },
  {
   "cell_type": "code",
   "execution_count": 53,
   "metadata": {},
   "outputs": [
    {
     "name": "stdout",
     "output_type": "stream",
     "text": [
      "R2 of train  0.7038273988298853\n",
      "RMSE of train 460237.49898466223\n"
     ]
    }
   ],
   "source": [
    "print('R2 of train ',r2_score(y_test,y_pred_test))\n",
    "print('RMSE of train',np.sqrt(mean_squared_error(y_test,y_pred_test)))"
   ]
  },
  {
   "cell_type": "code",
   "execution_count": 326,
   "metadata": {},
   "outputs": [],
   "source": [
    "df1=pd.read_csv('Test Data Set.csv')"
   ]
  },
  {
   "cell_type": "code",
   "execution_count": 327,
   "metadata": {},
   "outputs": [
    {
     "data": {
      "text/html": [
       "<div>\n",
       "<style scoped>\n",
       "    .dataframe tbody tr th:only-of-type {\n",
       "        vertical-align: middle;\n",
       "    }\n",
       "\n",
       "    .dataframe tbody tr th {\n",
       "        vertical-align: top;\n",
       "    }\n",
       "\n",
       "    .dataframe thead th {\n",
       "        text-align: right;\n",
       "    }\n",
       "</style>\n",
       "<table border=\"1\" class=\"dataframe\">\n",
       "  <thead>\n",
       "    <tr style=\"text-align: right;\">\n",
       "      <th></th>\n",
       "      <th>Id</th>\n",
       "      <th>Maker</th>\n",
       "      <th>model</th>\n",
       "      <th>Location</th>\n",
       "      <th>Distance</th>\n",
       "      <th>Owner Type</th>\n",
       "      <th>manufacture_year</th>\n",
       "      <th>Age of car</th>\n",
       "      <th>engine_displacement</th>\n",
       "      <th>engine_power</th>\n",
       "      <th>body_type</th>\n",
       "      <th>Vroom Audit Rating</th>\n",
       "      <th>transmission</th>\n",
       "      <th>door_count</th>\n",
       "      <th>seat_count</th>\n",
       "      <th>fuel_type</th>\n",
       "    </tr>\n",
       "  </thead>\n",
       "  <tbody>\n",
       "    <tr>\n",
       "      <th>0</th>\n",
       "      <td>11001</td>\n",
       "      <td>skoda</td>\n",
       "      <td>octavia</td>\n",
       "      <td>Mumbai</td>\n",
       "      <td>150000.0</td>\n",
       "      <td>First</td>\n",
       "      <td>2007</td>\n",
       "      <td>12</td>\n",
       "      <td>1595</td>\n",
       "      <td>75.0</td>\n",
       "      <td>NaN</td>\n",
       "      <td>5</td>\n",
       "      <td>man</td>\n",
       "      <td>4</td>\n",
       "      <td>5</td>\n",
       "      <td>petrol</td>\n",
       "    </tr>\n",
       "    <tr>\n",
       "      <th>1</th>\n",
       "      <td>11002</td>\n",
       "      <td>skoda</td>\n",
       "      <td>rapid</td>\n",
       "      <td>Coimbatore</td>\n",
       "      <td>29376.0</td>\n",
       "      <td>Third</td>\n",
       "      <td>2014</td>\n",
       "      <td>5</td>\n",
       "      <td>1598</td>\n",
       "      <td>77.0</td>\n",
       "      <td>NaN</td>\n",
       "      <td>4</td>\n",
       "      <td>man</td>\n",
       "      <td>4</td>\n",
       "      <td>5</td>\n",
       "      <td>diesel</td>\n",
       "    </tr>\n",
       "    <tr>\n",
       "      <th>2</th>\n",
       "      <td>11003</td>\n",
       "      <td>skoda</td>\n",
       "      <td>octavia</td>\n",
       "      <td>Coimbatore</td>\n",
       "      <td>30563.0</td>\n",
       "      <td>Second</td>\n",
       "      <td>2014</td>\n",
       "      <td>5</td>\n",
       "      <td>1968</td>\n",
       "      <td>110.0</td>\n",
       "      <td>NaN</td>\n",
       "      <td>5</td>\n",
       "      <td>man</td>\n",
       "      <td>5</td>\n",
       "      <td>5</td>\n",
       "      <td>diesel</td>\n",
       "    </tr>\n",
       "    <tr>\n",
       "      <th>3</th>\n",
       "      <td>11004</td>\n",
       "      <td>audi</td>\n",
       "      <td>q3</td>\n",
       "      <td>Delhi</td>\n",
       "      <td>8650.0</td>\n",
       "      <td>Fourth &amp; Above</td>\n",
       "      <td>2015</td>\n",
       "      <td>4</td>\n",
       "      <td>1968</td>\n",
       "      <td>110.0</td>\n",
       "      <td>NaN</td>\n",
       "      <td>8</td>\n",
       "      <td>auto</td>\n",
       "      <td>4</td>\n",
       "      <td>5</td>\n",
       "      <td>diesel</td>\n",
       "    </tr>\n",
       "    <tr>\n",
       "      <th>4</th>\n",
       "      <td>11005</td>\n",
       "      <td>audi</td>\n",
       "      <td>tt</td>\n",
       "      <td>Chennai</td>\n",
       "      <td>6400.0</td>\n",
       "      <td>Third</td>\n",
       "      <td>2015</td>\n",
       "      <td>4</td>\n",
       "      <td>1984</td>\n",
       "      <td>169.0</td>\n",
       "      <td>NaN</td>\n",
       "      <td>4</td>\n",
       "      <td>auto</td>\n",
       "      <td>2</td>\n",
       "      <td>None</td>\n",
       "      <td>petrol</td>\n",
       "    </tr>\n",
       "  </tbody>\n",
       "</table>\n",
       "</div>"
      ],
      "text/plain": [
       "      Id  Maker    model    Location  Distance       Owner Type  \\\n",
       "0  11001  skoda  octavia      Mumbai   150000.0           First   \n",
       "1  11002  skoda    rapid  Coimbatore    29376.0           Third   \n",
       "2  11003  skoda  octavia  Coimbatore    30563.0          Second   \n",
       "3  11004   audi       q3       Delhi     8650.0  Fourth & Above   \n",
       "4  11005   audi       tt     Chennai     6400.0           Third   \n",
       "\n",
       "   manufacture_year  Age of car  engine_displacement  engine_power body_type  \\\n",
       "0              2007          12                 1595          75.0       NaN   \n",
       "1              2014           5                 1598          77.0       NaN   \n",
       "2              2014           5                 1968         110.0       NaN   \n",
       "3              2015           4                 1968         110.0       NaN   \n",
       "4              2015           4                 1984         169.0       NaN   \n",
       "\n",
       "   Vroom Audit Rating transmission door_count seat_count fuel_type  \n",
       "0                   5          man          4          5    petrol  \n",
       "1                   4          man          4          5    diesel  \n",
       "2                   5          man          5          5    diesel  \n",
       "3                   8         auto          4          5    diesel  \n",
       "4                   4         auto          2       None    petrol  "
      ]
     },
     "execution_count": 327,
     "metadata": {},
     "output_type": "execute_result"
    }
   ],
   "source": [
    "df1.head()"
   ]
  },
  {
   "cell_type": "code",
   "execution_count": 328,
   "metadata": {},
   "outputs": [
    {
     "name": "stdout",
     "output_type": "stream",
     "text": [
      "<class 'pandas.core.frame.DataFrame'>\n",
      "RangeIndex: 5615 entries, 0 to 5614\n",
      "Data columns (total 16 columns):\n",
      "Id                     5615 non-null int64\n",
      "Maker                  5615 non-null object\n",
      "model                  5615 non-null object\n",
      "Location               5615 non-null object\n",
      "Distance               5487 non-null float64\n",
      "Owner Type             5615 non-null object\n",
      "manufacture_year       5615 non-null int64\n",
      "Age of car             5615 non-null int64\n",
      "engine_displacement    5615 non-null int64\n",
      "engine_power           5447 non-null float64\n",
      "body_type              422 non-null object\n",
      "Vroom Audit Rating     5615 non-null int64\n",
      "transmission           5615 non-null object\n",
      "door_count             5615 non-null object\n",
      "seat_count             5615 non-null object\n",
      "fuel_type              5615 non-null object\n",
      "dtypes: float64(2), int64(5), object(9)\n",
      "memory usage: 702.0+ KB\n"
     ]
    }
   ],
   "source": [
    "df1.info()"
   ]
  },
  {
   "cell_type": "code",
   "execution_count": 329,
   "metadata": {},
   "outputs": [
    {
     "data": {
      "text/plain": [
       "Id                        0\n",
       "Maker                     0\n",
       "model                     0\n",
       "Location                  0\n",
       "Distance                128\n",
       "Owner Type                0\n",
       "manufacture_year          0\n",
       "Age of car                0\n",
       "engine_displacement       0\n",
       "engine_power            168\n",
       "body_type              5193\n",
       "Vroom Audit Rating        0\n",
       "transmission              0\n",
       "door_count                0\n",
       "seat_count                0\n",
       "fuel_type                 0\n",
       "dtype: int64"
      ]
     },
     "execution_count": 329,
     "metadata": {},
     "output_type": "execute_result"
    }
   ],
   "source": [
    "df1.isnull().sum()"
   ]
  },
  {
   "cell_type": "code",
   "execution_count": 330,
   "metadata": {},
   "outputs": [],
   "source": [
    "#df1=df1.drop(['Id','manufacture_year','body_type'],axis=1)"
   ]
  },
  {
   "cell_type": "code",
   "execution_count": 331,
   "metadata": {},
   "outputs": [
    {
     "data": {
      "text/plain": [
       "Id                        0\n",
       "Maker                     0\n",
       "model                     0\n",
       "Location                  0\n",
       "Distance                128\n",
       "Owner Type                0\n",
       "manufacture_year          0\n",
       "Age of car                0\n",
       "engine_displacement       0\n",
       "engine_power            168\n",
       "body_type              5193\n",
       "Vroom Audit Rating        0\n",
       "transmission              0\n",
       "door_count                0\n",
       "seat_count                0\n",
       "fuel_type                 0\n",
       "dtype: int64"
      ]
     },
     "execution_count": 331,
     "metadata": {},
     "output_type": "execute_result"
    }
   ],
   "source": [
    "df1.isnull().sum()"
   ]
  },
  {
   "cell_type": "code",
   "execution_count": 332,
   "metadata": {},
   "outputs": [
    {
     "data": {
      "text/plain": [
       "Distance         1.28\n",
       "engine_power     1.68\n",
       "body_type       51.93\n",
       "dtype: float64"
      ]
     },
     "execution_count": 332,
     "metadata": {},
     "output_type": "execute_result"
    }
   ],
   "source": [
    "ms=df1.isnull().sum()\n",
    "ms[ms>0]/100"
   ]
  },
  {
   "cell_type": "code",
   "execution_count": 333,
   "metadata": {},
   "outputs": [],
   "source": [
    "df1['Distance ']=df1['Distance '].fillna(df1['Distance '].median())"
   ]
  },
  {
   "cell_type": "code",
   "execution_count": 334,
   "metadata": {},
   "outputs": [],
   "source": [
    "df1['engine_power']=df1['engine_power'].fillna(df1['engine_power'].median())"
   ]
  },
  {
   "cell_type": "code",
   "execution_count": 335,
   "metadata": {
    "scrolled": true
   },
   "outputs": [
    {
     "data": {
      "text/plain": [
       "body_type    51.93\n",
       "dtype: float64"
      ]
     },
     "execution_count": 335,
     "metadata": {},
     "output_type": "execute_result"
    }
   ],
   "source": [
    "ms=df1.isnull().sum()\n",
    "ms[ms>0]/100"
   ]
  },
  {
   "cell_type": "code",
   "execution_count": 336,
   "metadata": {},
   "outputs": [],
   "source": [
    "df1=df1.drop(['body_type','Id','manufacture_year'],axis=1)"
   ]
  },
  {
   "cell_type": "code",
   "execution_count": 337,
   "metadata": {
    "scrolled": true
   },
   "outputs": [
    {
     "data": {
      "text/plain": [
       "5       4100\n",
       "None     891\n",
       "4        455\n",
       "7         82\n",
       "2         79\n",
       "3          8\n",
       "Name: seat_count, dtype: int64"
      ]
     },
     "execution_count": 337,
     "metadata": {},
     "output_type": "execute_result"
    }
   ],
   "source": [
    "df1['seat_count'].value_counts()"
   ]
  },
  {
   "cell_type": "code",
   "execution_count": 338,
   "metadata": {},
   "outputs": [],
   "source": [
    "df1['seat_count']=df1['seat_count'].replace('None','5')"
   ]
  },
  {
   "cell_type": "code",
   "execution_count": 339,
   "metadata": {},
   "outputs": [
    {
     "data": {
      "text/plain": [
       "4       3583\n",
       "None     806\n",
       "5        775\n",
       "2        431\n",
       "3         19\n",
       "6          1\n",
       "Name: door_count, dtype: int64"
      ]
     },
     "execution_count": 339,
     "metadata": {},
     "output_type": "execute_result"
    }
   ],
   "source": [
    "df1['door_count'].value_counts()"
   ]
  },
  {
   "cell_type": "code",
   "execution_count": 340,
   "metadata": {},
   "outputs": [],
   "source": [
    "df1['door_count']=df1['door_count'].replace('None','4')"
   ]
  },
  {
   "cell_type": "code",
   "execution_count": 341,
   "metadata": {},
   "outputs": [
    {
     "data": {
      "text/plain": [
       "['Maker',\n",
       " 'model',\n",
       " 'Location',\n",
       " 'Owner Type',\n",
       " 'transmission',\n",
       " 'door_count',\n",
       " 'seat_count',\n",
       " 'fuel_type']"
      ]
     },
     "execution_count": 341,
     "metadata": {},
     "output_type": "execute_result"
    }
   ],
   "source": [
    "cat_cols=list(df1.select_dtypes(include=['object']).columns)\n",
    "cat_cols"
   ]
  },
  {
   "cell_type": "code",
   "execution_count": 342,
   "metadata": {},
   "outputs": [],
   "source": [
    "from sklearn.preprocessing import LabelEncoder"
   ]
  },
  {
   "cell_type": "code",
   "execution_count": 343,
   "metadata": {},
   "outputs": [],
   "source": [
    "le=LabelEncoder()"
   ]
  },
  {
   "cell_type": "code",
   "execution_count": 344,
   "metadata": {},
   "outputs": [],
   "source": [
    "df1['Maker']=le.fit_transform(df1['Maker']) \n",
    "df1['fuel_type']=le.fit_transform(df1['fuel_type'])\n",
    "df1['transmission']=le.fit_transform(df1['transmission'])\n",
    "\n",
    "df1['Owner Type']=le.fit_transform(df1['Owner Type'])\n",
    "df1['Location']=le.fit_transform(df1['Location'])\n",
    "df1['model']=le.fit_transform(df1['model']) \n",
    "df1['door_count']=le.fit_transform(df1['door_count']) \n",
    "df1['seat_count']=le.fit_transform(df1['seat_count'])\n"
   ]
  },
  {
   "cell_type": "code",
   "execution_count": 345,
   "metadata": {},
   "outputs": [],
   "source": [
    "#df['distance ']="
   ]
  },
  {
   "cell_type": "code",
   "execution_count": 346,
   "metadata": {},
   "outputs": [
    {
     "data": {
      "text/html": [
       "<div>\n",
       "<style scoped>\n",
       "    .dataframe tbody tr th:only-of-type {\n",
       "        vertical-align: middle;\n",
       "    }\n",
       "\n",
       "    .dataframe tbody tr th {\n",
       "        vertical-align: top;\n",
       "    }\n",
       "\n",
       "    .dataframe thead th {\n",
       "        text-align: right;\n",
       "    }\n",
       "</style>\n",
       "<table border=\"1\" class=\"dataframe\">\n",
       "  <thead>\n",
       "    <tr style=\"text-align: right;\">\n",
       "      <th></th>\n",
       "      <th>Maker</th>\n",
       "      <th>model</th>\n",
       "      <th>Location</th>\n",
       "      <th>Distance</th>\n",
       "      <th>Owner Type</th>\n",
       "      <th>Age of car</th>\n",
       "      <th>engine_displacement</th>\n",
       "      <th>engine_power</th>\n",
       "      <th>Vroom Audit Rating</th>\n",
       "      <th>transmission</th>\n",
       "      <th>door_count</th>\n",
       "      <th>seat_count</th>\n",
       "      <th>fuel_type</th>\n",
       "    </tr>\n",
       "  </thead>\n",
       "  <tbody>\n",
       "    <tr>\n",
       "      <th>0</th>\n",
       "      <td>6</td>\n",
       "      <td>8</td>\n",
       "      <td>9</td>\n",
       "      <td>150000.0</td>\n",
       "      <td>0</td>\n",
       "      <td>12</td>\n",
       "      <td>1595</td>\n",
       "      <td>75.0</td>\n",
       "      <td>5</td>\n",
       "      <td>1</td>\n",
       "      <td>2</td>\n",
       "      <td>3</td>\n",
       "      <td>1</td>\n",
       "    </tr>\n",
       "    <tr>\n",
       "      <th>1</th>\n",
       "      <td>6</td>\n",
       "      <td>14</td>\n",
       "      <td>3</td>\n",
       "      <td>29376.0</td>\n",
       "      <td>3</td>\n",
       "      <td>5</td>\n",
       "      <td>1598</td>\n",
       "      <td>77.0</td>\n",
       "      <td>4</td>\n",
       "      <td>1</td>\n",
       "      <td>2</td>\n",
       "      <td>3</td>\n",
       "      <td>0</td>\n",
       "    </tr>\n",
       "    <tr>\n",
       "      <th>2</th>\n",
       "      <td>6</td>\n",
       "      <td>8</td>\n",
       "      <td>3</td>\n",
       "      <td>30563.0</td>\n",
       "      <td>2</td>\n",
       "      <td>5</td>\n",
       "      <td>1968</td>\n",
       "      <td>110.0</td>\n",
       "      <td>5</td>\n",
       "      <td>1</td>\n",
       "      <td>3</td>\n",
       "      <td>3</td>\n",
       "      <td>0</td>\n",
       "    </tr>\n",
       "    <tr>\n",
       "      <th>3</th>\n",
       "      <td>0</td>\n",
       "      <td>10</td>\n",
       "      <td>4</td>\n",
       "      <td>8650.0</td>\n",
       "      <td>1</td>\n",
       "      <td>4</td>\n",
       "      <td>1968</td>\n",
       "      <td>110.0</td>\n",
       "      <td>8</td>\n",
       "      <td>0</td>\n",
       "      <td>2</td>\n",
       "      <td>3</td>\n",
       "      <td>0</td>\n",
       "    </tr>\n",
       "    <tr>\n",
       "      <th>4</th>\n",
       "      <td>0</td>\n",
       "      <td>17</td>\n",
       "      <td>2</td>\n",
       "      <td>6400.0</td>\n",
       "      <td>3</td>\n",
       "      <td>4</td>\n",
       "      <td>1984</td>\n",
       "      <td>169.0</td>\n",
       "      <td>4</td>\n",
       "      <td>0</td>\n",
       "      <td>0</td>\n",
       "      <td>3</td>\n",
       "      <td>1</td>\n",
       "    </tr>\n",
       "  </tbody>\n",
       "</table>\n",
       "</div>"
      ],
      "text/plain": [
       "   Maker  model  Location  Distance   Owner Type  Age of car  \\\n",
       "0      6      8         9   150000.0           0          12   \n",
       "1      6     14         3    29376.0           3           5   \n",
       "2      6      8         3    30563.0           2           5   \n",
       "3      0     10         4     8650.0           1           4   \n",
       "4      0     17         2     6400.0           3           4   \n",
       "\n",
       "   engine_displacement  engine_power  Vroom Audit Rating  transmission  \\\n",
       "0                 1595          75.0                   5             1   \n",
       "1                 1598          77.0                   4             1   \n",
       "2                 1968         110.0                   5             1   \n",
       "3                 1968         110.0                   8             0   \n",
       "4                 1984         169.0                   4             0   \n",
       "\n",
       "   door_count  seat_count  fuel_type  \n",
       "0           2           3          1  \n",
       "1           2           3          0  \n",
       "2           3           3          0  \n",
       "3           2           3          0  \n",
       "4           0           3          1  "
      ]
     },
     "execution_count": 346,
     "metadata": {},
     "output_type": "execute_result"
    }
   ],
   "source": [
    "df1.head()"
   ]
  },
  {
   "cell_type": "code",
   "execution_count": 347,
   "metadata": {},
   "outputs": [
    {
     "name": "stdout",
     "output_type": "stream",
     "text": [
      "<class 'pandas.core.frame.DataFrame'>\n",
      "RangeIndex: 5615 entries, 0 to 5614\n",
      "Data columns (total 13 columns):\n",
      "Maker                  5615 non-null int32\n",
      "model                  5615 non-null int32\n",
      "Location               5615 non-null int32\n",
      "Distance               5615 non-null float64\n",
      "Owner Type             5615 non-null int32\n",
      "Age of car             5615 non-null int64\n",
      "engine_displacement    5615 non-null int64\n",
      "engine_power           5615 non-null float64\n",
      "Vroom Audit Rating     5615 non-null int64\n",
      "transmission           5615 non-null int32\n",
      "door_count             5615 non-null int32\n",
      "seat_count             5615 non-null int32\n",
      "fuel_type              5615 non-null int32\n",
      "dtypes: float64(2), int32(8), int64(3)\n",
      "memory usage: 394.9 KB\n"
     ]
    }
   ],
   "source": [
    "df1.info()"
   ]
  },
  {
   "cell_type": "code",
   "execution_count": 348,
   "metadata": {},
   "outputs": [],
   "source": [
    "df1['engine_power']=df1['engine_power'].apply(lambda x: np.log(x+1))\n",
    "df1['engine_displacement']=df1['engine_displacement'].apply(lambda x: np.log(x+1))\n",
    "df1['Distance ']=df1['Distance '].apply(lambda x: np.log(x+1))"
   ]
  },
  {
   "cell_type": "code",
   "execution_count": null,
   "metadata": {},
   "outputs": [],
   "source": []
  },
  {
   "cell_type": "code",
   "execution_count": null,
   "metadata": {},
   "outputs": [],
   "source": []
  },
  {
   "cell_type": "code",
   "execution_count": null,
   "metadata": {},
   "outputs": [],
   "source": []
  },
  {
   "cell_type": "code",
   "execution_count": null,
   "metadata": {},
   "outputs": [],
   "source": []
  },
  {
   "cell_type": "code",
   "execution_count": 349,
   "metadata": {
    "scrolled": true
   },
   "outputs": [
    {
     "name": "stdout",
     "output_type": "stream",
     "text": [
      "<class 'pandas.core.frame.DataFrame'>\n",
      "RangeIndex: 5615 entries, 0 to 5614\n",
      "Data columns (total 13 columns):\n",
      "Maker                  5615 non-null int32\n",
      "model                  5615 non-null int32\n",
      "Location               5615 non-null int32\n",
      "Distance               5615 non-null float64\n",
      "Owner Type             5615 non-null int32\n",
      "Age of car             5615 non-null int64\n",
      "engine_displacement    5615 non-null float64\n",
      "engine_power           5615 non-null float64\n",
      "Vroom Audit Rating     5615 non-null int64\n",
      "transmission           5615 non-null int32\n",
      "door_count             5615 non-null int32\n",
      "seat_count             5615 non-null int32\n",
      "fuel_type              5615 non-null int32\n",
      "dtypes: float64(3), int32(8), int64(2)\n",
      "memory usage: 394.9 KB\n"
     ]
    }
   ],
   "source": [
    "df1.info()"
   ]
  },
  {
   "cell_type": "code",
   "execution_count": null,
   "metadata": {},
   "outputs": [],
   "source": []
  },
  {
   "cell_type": "code",
   "execution_count": null,
   "metadata": {},
   "outputs": [],
   "source": []
  },
  {
   "cell_type": "code",
   "execution_count": null,
   "metadata": {},
   "outputs": [],
   "source": []
  },
  {
   "cell_type": "code",
   "execution_count": null,
   "metadata": {},
   "outputs": [],
   "source": []
  },
  {
   "cell_type": "code",
   "execution_count": null,
   "metadata": {},
   "outputs": [],
   "source": []
  },
  {
   "cell_type": "code",
   "execution_count": 293,
   "metadata": {},
   "outputs": [
    {
     "data": {
      "text/plain": [
       "13"
      ]
     },
     "execution_count": 293,
     "metadata": {},
     "output_type": "execute_result"
    }
   ],
   "source": [
    "len(X.columns)"
   ]
  },
  {
   "cell_type": "code",
   "execution_count": null,
   "metadata": {},
   "outputs": [],
   "source": []
  },
  {
   "cell_type": "code",
   "execution_count": null,
   "metadata": {},
   "outputs": [],
   "source": []
  },
  {
   "cell_type": "code",
   "execution_count": 294,
   "metadata": {},
   "outputs": [],
   "source": [
    "df1=df1.drop('Distance ',axis=1)"
   ]
  },
  {
   "cell_type": "code",
   "execution_count": 295,
   "metadata": {},
   "outputs": [
    {
     "data": {
      "text/plain": [
       "13"
      ]
     },
     "execution_count": 295,
     "metadata": {},
     "output_type": "execute_result"
    }
   ],
   "source": [
    "len(df1.columns)"
   ]
  },
  {
   "cell_type": "code",
   "execution_count": 296,
   "metadata": {},
   "outputs": [
    {
     "data": {
      "text/plain": [
       "Index(['Maker', 'model', 'Location', 'distance', 'Owner Type', 'Age of car',\n",
       "       'engine_displacement', 'engine_power', 'Vroom Audit Rating',\n",
       "       'transmission', 'door_count', 'seat_count', 'fuel_type'],\n",
       "      dtype='object')"
      ]
     },
     "execution_count": 296,
     "metadata": {},
     "output_type": "execute_result"
    }
   ],
   "source": [
    "X.columns\n"
   ]
  },
  {
   "cell_type": "code",
   "execution_count": 297,
   "metadata": {},
   "outputs": [
    {
     "data": {
      "text/plain": [
       "Index(['Maker', 'model', 'Location', 'Owner Type', 'Age of car',\n",
       "       'engine_displacement', 'engine_power', 'Vroom Audit Rating',\n",
       "       'transmission', 'door_count', 'seat_count', 'fuel_type', 'distance'],\n",
       "      dtype='object')"
      ]
     },
     "execution_count": 297,
     "metadata": {},
     "output_type": "execute_result"
    }
   ],
   "source": [
    "df1.columns"
   ]
  },
  {
   "cell_type": "code",
   "execution_count": 259,
   "metadata": {},
   "outputs": [],
   "source": [
    "y_pred_test=lr.predict(df1)"
   ]
  },
  {
   "cell_type": "code",
   "execution_count": 80,
   "metadata": {},
   "outputs": [],
   "source": [
    "df2=pd.read_csv('Test Data Set.csv')"
   ]
  },
  {
   "cell_type": "code",
   "execution_count": 83,
   "metadata": {},
   "outputs": [],
   "source": [
    "prediction = pd.DataFrame({'Unique Id':df2['Id'],'Price':y_pred_test})\n",
    "prediction.to_csv('Prediction.csv')"
   ]
  },
  {
   "cell_type": "code",
   "execution_count": 84,
   "metadata": {},
   "outputs": [],
   "source": [
    "from statsmodels.stats.outliers_influence import variance_inflation_factor"
   ]
  },
  {
   "cell_type": "code",
   "execution_count": 85,
   "metadata": {},
   "outputs": [
    {
     "data": {
      "text/html": [
       "<div>\n",
       "<style scoped>\n",
       "    .dataframe tbody tr th:only-of-type {\n",
       "        vertical-align: middle;\n",
       "    }\n",
       "\n",
       "    .dataframe tbody tr th {\n",
       "        vertical-align: top;\n",
       "    }\n",
       "\n",
       "    .dataframe thead th {\n",
       "        text-align: right;\n",
       "    }\n",
       "</style>\n",
       "<table border=\"1\" class=\"dataframe\">\n",
       "  <thead>\n",
       "    <tr style=\"text-align: right;\">\n",
       "      <th></th>\n",
       "      <th>vif</th>\n",
       "    </tr>\n",
       "  </thead>\n",
       "  <tbody>\n",
       "    <tr>\n",
       "      <th>Maker</th>\n",
       "      <td>6.555675</td>\n",
       "    </tr>\n",
       "    <tr>\n",
       "      <th>model</th>\n",
       "      <td>4.832816</td>\n",
       "    </tr>\n",
       "    <tr>\n",
       "      <th>Location</th>\n",
       "      <td>3.467749</td>\n",
       "    </tr>\n",
       "    <tr>\n",
       "      <th>distance</th>\n",
       "      <td>1.187570</td>\n",
       "    </tr>\n",
       "    <tr>\n",
       "      <th>Owner Type</th>\n",
       "      <td>2.775382</td>\n",
       "    </tr>\n",
       "    <tr>\n",
       "      <th>Age of car</th>\n",
       "      <td>4.755315</td>\n",
       "    </tr>\n",
       "    <tr>\n",
       "      <th>engine_displacement</th>\n",
       "      <td>3.067200</td>\n",
       "    </tr>\n",
       "    <tr>\n",
       "      <th>engine_power</th>\n",
       "      <td>9.930728</td>\n",
       "    </tr>\n",
       "    <tr>\n",
       "      <th>Vroom Audit Rating</th>\n",
       "      <td>15.952079</td>\n",
       "    </tr>\n",
       "    <tr>\n",
       "      <th>transmission</th>\n",
       "      <td>4.125652</td>\n",
       "    </tr>\n",
       "    <tr>\n",
       "      <th>door_count</th>\n",
       "      <td>25.976477</td>\n",
       "    </tr>\n",
       "    <tr>\n",
       "      <th>seat_count</th>\n",
       "      <td>50.401635</td>\n",
       "    </tr>\n",
       "    <tr>\n",
       "      <th>fuel_type</th>\n",
       "      <td>2.206952</td>\n",
       "    </tr>\n",
       "  </tbody>\n",
       "</table>\n",
       "</div>"
      ],
      "text/plain": [
       "                           vif\n",
       "Maker                 6.555675\n",
       "model                 4.832816\n",
       "Location              3.467749\n",
       "distance              1.187570\n",
       "Owner Type            2.775382\n",
       "Age of car            4.755315\n",
       "engine_displacement   3.067200\n",
       "engine_power          9.930728\n",
       "Vroom Audit Rating   15.952079\n",
       "transmission          4.125652\n",
       "door_count           25.976477\n",
       "seat_count           50.401635\n",
       "fuel_type             2.206952"
      ]
     },
     "execution_count": 85,
     "metadata": {},
     "output_type": "execute_result"
    }
   ],
   "source": [
    "vif=[variance_inflation_factor(X_train.values,i) for i in range(X_train.shape[1])]\n",
    "pd.DataFrame({'vif':vif},index=X_train.columns)"
   ]
  },
  {
   "cell_type": "code",
   "execution_count": 86,
   "metadata": {},
   "outputs": [
    {
     "name": "stdout",
     "output_type": "stream",
     "text": [
      "['Maker', 'model', 'Location', 'distance', 'Owner Type', 'Age of car', 'engine_power', 'Vroom Audit Rating', 'transmission', 'door_count', 'seat_count', 'fuel_type']\n"
     ]
    }
   ],
   "source": [
    "cols=X_train.columns.to_list()\n",
    "pmax=1\n",
    "while(len(cols)>0):\n",
    "  \n",
    "    X_1=X_train[cols]\n",
    "    model=sm.OLS(y_train,X_1).fit()\n",
    "    p=pd.Series(model.pvalues.values,index=cols) # holds all the p val of features in p.\n",
    "    pmax=max(p)\n",
    "    feature_max_prob=p.idxmax()\n",
    "    if (pmax>0.05):\n",
    "        cols.remove(feature_max_prob) #removing col with more p val\n",
    "    else:\n",
    "            break\n",
    "selected_features_BE=cols\n",
    "print(selected_features_BE) #variables which are significants that are retaned"
   ]
  },
  {
   "cell_type": "code",
   "execution_count": 87,
   "metadata": {},
   "outputs": [
    {
     "name": "stdout",
     "output_type": "stream",
     "text": [
      "R2 on test data 0.6780113598517175\n",
      "RMSE of train 479876.8906074083\n"
     ]
    }
   ],
   "source": [
    "from sklearn.metrics import r2_score\n",
    "\n",
    "lin_reg=sm.OLS(y_train,X_train[selected_features_BE]) #building stats model in tain dataset\n",
    "result=lin_reg.fit()\n",
    "#print(result.summary())\n",
    "\n",
    "y_pred=result.predict(X_test[selected_features_BE]) #predicting y on test\n",
    "\n",
    "print(\"R2 on test data\",r2_score(y_test,y_pred))\n",
    "print('RMSE of train',np.sqrt(mean_squared_error(y_test,y_pred)))"
   ]
  },
  {
   "cell_type": "code",
   "execution_count": 88,
   "metadata": {},
   "outputs": [],
   "source": [
    "y=df['Price']\n",
    "X=df.drop('Price',axis=1)"
   ]
  },
  {
   "cell_type": "code",
   "execution_count": 89,
   "metadata": {},
   "outputs": [],
   "source": [
    "X_train, X_test, y_train, y_test = train_test_split( X, y, test_size=0.30, random_state=2)"
   ]
  },
  {
   "cell_type": "code",
   "execution_count": 90,
   "metadata": {},
   "outputs": [],
   "source": [
    "lr=LinearRegression()\n",
    "lr.fit(X_train,y_train)\n",
    "y_pred=lr.predict(X_test)"
   ]
  },
  {
   "cell_type": "code",
   "execution_count": 91,
   "metadata": {},
   "outputs": [
    {
     "data": {
      "text/plain": [
       "199652248356.07126"
      ]
     },
     "execution_count": 91,
     "metadata": {},
     "output_type": "execute_result"
    }
   ],
   "source": [
    "mse=mean_squared_error(y_test,y_pred)\n",
    "mse"
   ]
  },
  {
   "cell_type": "code",
   "execution_count": 92,
   "metadata": {},
   "outputs": [
    {
     "data": {
      "text/plain": [
       "446824.62818881334"
      ]
     },
     "execution_count": 92,
     "metadata": {},
     "output_type": "execute_result"
    }
   ],
   "source": [
    "rmse=np.sqrt(mse)\n",
    "rmse"
   ]
  },
  {
   "cell_type": "code",
   "execution_count": 93,
   "metadata": {},
   "outputs": [
    {
     "data": {
      "text/plain": [
       "<matplotlib.axes._subplots.AxesSubplot at 0x1d6b25a5dd8>"
      ]
     },
     "execution_count": 93,
     "metadata": {},
     "output_type": "execute_result"
    },
    {
     "data": {
      "image/png": "[encoded data removed]",
      "text/plain": [
       "<Figure size 432x288 with 1 Axes>"
      ]
     },
     "metadata": {
      "needs_background": "light"
     },
     "output_type": "display_data"
    }
   ],
   "source": [
    "sns.distplot(df['distance'])"
   ]
  },
  {
   "cell_type": "code",
   "execution_count": 94,
   "metadata": {
    "scrolled": false
   },
   "outputs": [
    {
     "data": {
      "text/plain": [
       "<matplotlib.axes._subplots.AxesSubplot at 0x1d6b25a5198>"
      ]
     },
     "execution_count": 94,
     "metadata": {},
     "output_type": "execute_result"
    },
    {
     "data": {
      "image/png": "[encoded data removed]",
      "text/plain": [
       "<Figure size 432x288 with 1 Axes>"
      ]
     },
     "metadata": {
      "needs_background": "light"
     },
     "output_type": "display_data"
    }
   ],
   "source": [
    "sns.distplot(df['engine_displacement'])"
   ]
  },
  {
   "cell_type": "code",
   "execution_count": 95,
   "metadata": {
    "scrolled": true
   },
   "outputs": [
    {
     "data": {
      "text/plain": [
       "<matplotlib.axes._subplots.AxesSubplot at 0x1d6b11da630>"
      ]
     },
     "execution_count": 95,
     "metadata": {},
     "output_type": "execute_result"
    },
    {
     "data": {
      "image/png": "[encoded data removed]",
      "text/plain": [
       "<Figure size 432x288 with 1 Axes>"
      ]
     },
     "metadata": {
      "needs_background": "light"
     },
     "output_type": "display_data"
    }
   ],
   "source": [
    "sns.distplot(df['engine_power'])"
   ]
  },
  {
   "cell_type": "code",
   "execution_count": 96,
   "metadata": {},
   "outputs": [],
   "source": [
    "df['engine_power']=df['engine_power'].apply(lambda x: np.log(x+1))\n",
    "df['engine_displacement']=df['engine_displacement'].apply(lambda x: np.log(x+1))\n",
    "df['Distance ']=df['distance'].apply(lambda x: np.log(x+1))"
   ]
  },
  {
   "cell_type": "code",
   "execution_count": null,
   "metadata": {},
   "outputs": [],
   "source": []
  },
  {
   "cell_type": "code",
   "execution_count": null,
   "metadata": {},
   "outputs": [],
   "source": []
  },
  {
   "cell_type": "code",
   "execution_count": 97,
   "metadata": {},
   "outputs": [
    {
     "data": {
      "text/html": [
       "<div>\n",
       "<style scoped>\n",
       "    .dataframe tbody tr th:only-of-type {\n",
       "        vertical-align: middle;\n",
       "    }\n",
       "\n",
       "    .dataframe tbody tr th {\n",
       "        vertical-align: top;\n",
       "    }\n",
       "\n",
       "    .dataframe thead th {\n",
       "        text-align: right;\n",
       "    }\n",
       "</style>\n",
       "<table border=\"1\" class=\"dataframe\">\n",
       "  <thead>\n",
       "    <tr style=\"text-align: right;\">\n",
       "      <th></th>\n",
       "      <th>Maker</th>\n",
       "      <th>model</th>\n",
       "      <th>Location</th>\n",
       "      <th>distance</th>\n",
       "      <th>Owner Type</th>\n",
       "      <th>Age of car</th>\n",
       "      <th>engine_displacement</th>\n",
       "      <th>engine_power</th>\n",
       "      <th>Vroom Audit Rating</th>\n",
       "      <th>transmission</th>\n",
       "      <th>door_count</th>\n",
       "      <th>seat_count</th>\n",
       "      <th>fuel_type</th>\n",
       "      <th>Price</th>\n",
       "    </tr>\n",
       "  </thead>\n",
       "  <tbody>\n",
       "    <tr>\n",
       "      <th>0</th>\n",
       "      <td>6</td>\n",
       "      <td>8</td>\n",
       "      <td>0</td>\n",
       "      <td>11.090126</td>\n",
       "      <td>2</td>\n",
       "      <td>55</td>\n",
       "      <td>7.583248</td>\n",
       "      <td>4.997212</td>\n",
       "      <td>8</td>\n",
       "      <td>1</td>\n",
       "      <td>3</td>\n",
       "      <td>4</td>\n",
       "      <td>1</td>\n",
       "      <td>543764.25</td>\n",
       "    </tr>\n",
       "    <tr>\n",
       "      <th>1</th>\n",
       "      <td>2</td>\n",
       "      <td>9</td>\n",
       "      <td>0</td>\n",
       "      <td>10.231027</td>\n",
       "      <td>3</td>\n",
       "      <td>7</td>\n",
       "      <td>7.125283</td>\n",
       "      <td>3.951244</td>\n",
       "      <td>6</td>\n",
       "      <td>1</td>\n",
       "      <td>3</td>\n",
       "      <td>3</td>\n",
       "      <td>1</td>\n",
       "      <td>401819.25</td>\n",
       "    </tr>\n",
       "    <tr>\n",
       "      <th>2</th>\n",
       "      <td>1</td>\n",
       "      <td>18</td>\n",
       "      <td>5</td>\n",
       "      <td>10.736418</td>\n",
       "      <td>3</td>\n",
       "      <td>5</td>\n",
       "      <td>7.598900</td>\n",
       "      <td>4.663439</td>\n",
       "      <td>7</td>\n",
       "      <td>0</td>\n",
       "      <td>3</td>\n",
       "      <td>4</td>\n",
       "      <td>0</td>\n",
       "      <td>2392855.50</td>\n",
       "    </tr>\n",
       "    <tr>\n",
       "      <th>3</th>\n",
       "      <td>5</td>\n",
       "      <td>6</td>\n",
       "      <td>9</td>\n",
       "      <td>10.690808</td>\n",
       "      <td>3</td>\n",
       "      <td>8</td>\n",
       "      <td>7.389564</td>\n",
       "      <td>4.948760</td>\n",
       "      <td>7</td>\n",
       "      <td>1</td>\n",
       "      <td>3</td>\n",
       "      <td>4</td>\n",
       "      <td>1</td>\n",
       "      <td>958606.50</td>\n",
       "    </tr>\n",
       "    <tr>\n",
       "      <th>4</th>\n",
       "      <td>1</td>\n",
       "      <td>20</td>\n",
       "      <td>6</td>\n",
       "      <td>10.994152</td>\n",
       "      <td>1</td>\n",
       "      <td>7</td>\n",
       "      <td>8.004366</td>\n",
       "      <td>5.198497</td>\n",
       "      <td>7</td>\n",
       "      <td>0</td>\n",
       "      <td>3</td>\n",
       "      <td>4</td>\n",
       "      <td>0</td>\n",
       "      <td>3085561.50</td>\n",
       "    </tr>\n",
       "  </tbody>\n",
       "</table>\n",
       "</div>"
      ],
      "text/plain": [
       "   Maker  model  Location   distance  Owner Type  Age of car  \\\n",
       "0      6      8         0  11.090126           2          55   \n",
       "1      2      9         0  10.231027           3           7   \n",
       "2      1     18         5  10.736418           3           5   \n",
       "3      5      6         9  10.690808           3           8   \n",
       "4      1     20         6  10.994152           1           7   \n",
       "\n",
       "   engine_displacement  engine_power  Vroom Audit Rating  transmission  \\\n",
       "0             7.583248      4.997212                   8             1   \n",
       "1             7.125283      3.951244                   6             1   \n",
       "2             7.598900      4.663439                   7             0   \n",
       "3             7.389564      4.948760                   7             1   \n",
       "4             8.004366      5.198497                   7             0   \n",
       "\n",
       "   door_count  seat_count  fuel_type       Price  \n",
       "0           3           4          1   543764.25  \n",
       "1           3           3          1   401819.25  \n",
       "2           3           4          0  2392855.50  \n",
       "3           3           4          1   958606.50  \n",
       "4           3           4          0  3085561.50  "
      ]
     },
     "execution_count": 97,
     "metadata": {},
     "output_type": "execute_result"
    }
   ],
   "source": [
    "df.head()"
   ]
  },
  {
   "cell_type": "code",
   "execution_count": 98,
   "metadata": {},
   "outputs": [],
   "source": [
    "y=df['Price']\n",
    "X=df.drop('Price',axis=1)"
   ]
  },
  {
   "cell_type": "code",
   "execution_count": 99,
   "metadata": {},
   "outputs": [],
   "source": [
    "X_train, X_test, y_train, y_test = train_test_split( X, y, test_size=0.30, random_state=2)"
   ]
  },
  {
   "cell_type": "code",
   "execution_count": 100,
   "metadata": {},
   "outputs": [],
   "source": [
    "lr=LinearRegression()\n",
    "lr.fit(X_train,y_train)\n",
    "y_pred=lr.predict(X_test)"
   ]
  },
  {
   "cell_type": "code",
   "execution_count": 101,
   "metadata": {},
   "outputs": [
    {
     "data": {
      "text/plain": [
       "206550181436.51086"
      ]
     },
     "execution_count": 101,
     "metadata": {},
     "output_type": "execute_result"
    }
   ],
   "source": [
    "mse=mean_squared_error(y_test,y_pred)\n",
    "mse"
   ]
  },
  {
   "cell_type": "code",
   "execution_count": 102,
   "metadata": {},
   "outputs": [
    {
     "data": {
      "text/plain": [
       "454477.9218361557"
      ]
     },
     "execution_count": 102,
     "metadata": {},
     "output_type": "execute_result"
    }
   ],
   "source": [
    "rmse=np.sqrt(mse)\n",
    "rmse"
   ]
  },
  {
   "cell_type": "code",
   "execution_count": 103,
   "metadata": {},
   "outputs": [],
   "source": [
    "from sklearn.ensemble import RandomForestRegressor\n",
    "\n"
   ]
  },
  {
   "cell_type": "code",
   "execution_count": 104,
   "metadata": {},
   "outputs": [
    {
     "data": {
      "text/plain": [
       "RandomForestRegressor(bootstrap=True, ccp_alpha=0.0, criterion='mse',\n",
       "                      max_depth=30, max_features='auto', max_leaf_nodes=None,\n",
       "                      max_samples=None, min_impurity_decrease=0.0,\n",
       "                      min_impurity_split=None, min_samples_leaf=1,\n",
       "                      min_samples_split=2, min_weight_fraction_leaf=0.0,\n",
       "                      n_estimators=100, n_jobs=1, oob_score=False,\n",
       "                      random_state=42, verbose=0, warm_start=False)"
      ]
     },
     "execution_count": 104,
     "metadata": {},
     "output_type": "execute_result"
    }
   ],
   "source": [
    "\n",
    "\n",
    "forest_reg = RandomForestRegressor(random_state=42, n_jobs =1, max_depth = 30 )\n",
    "forest_reg.fit(X_train,y_train)"
   ]
  },
  {
   "cell_type": "code",
   "execution_count": 105,
   "metadata": {},
   "outputs": [],
   "source": [
    "y_pred=forest_reg.predict(X_test)"
   ]
  },
  {
   "cell_type": "code",
   "execution_count": 106,
   "metadata": {},
   "outputs": [
    {
     "data": {
      "text/plain": [
       "45334057566.79118"
      ]
     },
     "execution_count": 106,
     "metadata": {},
     "output_type": "execute_result"
    }
   ],
   "source": [
    "mse=mean_squared_error(y_test,y_pred)\n",
    "mse"
   ]
  },
  {
   "cell_type": "code",
   "execution_count": 107,
   "metadata": {},
   "outputs": [
    {
     "data": {
      "text/plain": [
       "212917.95970934717"
      ]
     },
     "execution_count": 107,
     "metadata": {},
     "output_type": "execute_result"
    }
   ],
   "source": [
    "rmse=np.sqrt(mse)\n",
    "rmse"
   ]
  },
  {
   "cell_type": "code",
   "execution_count": null,
   "metadata": {},
   "outputs": [],
   "source": []
  },
  {
   "cell_type": "code",
   "execution_count": null,
   "metadata": {},
   "outputs": [],
   "source": []
  },
  {
   "cell_type": "code",
   "execution_count": 144,
   "metadata": {},
   "outputs": [],
   "source": [
    "y_pred=forest_reg.predict(df1)"
   ]
  },
  {
   "cell_type": "code",
   "execution_count": null,
   "metadata": {},
   "outputs": [],
   "source": []
  },
  {
   "cell_type": "code",
   "execution_count": 145,
   "metadata": {},
   "outputs": [],
   "source": [
    "df2=pd.read_csv('Test Data Set.csv')"
   ]
  },
  {
   "cell_type": "code",
   "execution_count": 146,
   "metadata": {},
   "outputs": [],
   "source": [
    "prediction = pd.DataFrame({'Unique Id':df2['Id'],'Price':y_pred})\n",
    "prediction.to_csv('Prediction.csv')"
   ]
  },
  {
   "cell_type": "code",
   "execution_count": 156,
   "metadata": {},
   "outputs": [],
   "source": [
    "from sklearn.ensemble import AdaBoostRegressor"
   ]
  },
  {
   "cell_type": "code",
   "execution_count": 157,
   "metadata": {},
   "outputs": [],
   "source": [
    "y=df['Price']\n",
    "X=df.drop('Price',axis=1)"
   ]
  },
  {
   "cell_type": "code",
   "execution_count": 158,
   "metadata": {},
   "outputs": [],
   "source": [
    "X_train, X_test, y_train, y_test = train_test_split( X, y, test_size=0.30, random_state=2)"
   ]
  },
  {
   "cell_type": "code",
   "execution_count": 161,
   "metadata": {},
   "outputs": [
    {
     "data": {
      "text/plain": [
       "AdaBoostRegressor(base_estimator=RandomForestRegressor(bootstrap=True,\n",
       "                                                       ccp_alpha=0.0,\n",
       "                                                       criterion='mse',\n",
       "                                                       max_depth=5,\n",
       "                                                       max_features='auto',\n",
       "                                                       max_leaf_nodes=None,\n",
       "                                                       max_samples=None,\n",
       "                                                       min_impurity_decrease=0.0,\n",
       "                                                       min_impurity_split=None,\n",
       "                                                       min_samples_leaf=1,\n",
       "                                                       min_samples_split=2,\n",
       "                                                       min_weight_fraction_leaf=0.0,\n",
       "                                                       n_estimators=100,\n",
       "                                                       n_jobs=None,\n",
       "                                                       oob_score=False,\n",
       "                                                       random_state=None,\n",
       "                                                       verbose=0,\n",
       "                                                       warm_start=False),\n",
       "                  learning_rate=1.0, loss='linear', n_estimators=150,\n",
       "                  random_state=None)"
      ]
     },
     "execution_count": 161,
     "metadata": {},
     "output_type": "execute_result"
    }
   ],
   "source": [
    "classifier = AdaBoostRegressor(\n",
    "    RandomForestRegressor(max_depth=5,criterion='mse'),\n",
    "    n_estimators=150\n",
    ")\n",
    "classifier.fit(X_train, y_train)"
   ]
  },
  {
   "cell_type": "code",
   "execution_count": 162,
   "metadata": {},
   "outputs": [],
   "source": [
    "y_pred=forest_reg.predict(X_test)"
   ]
  },
  {
   "cell_type": "code",
   "execution_count": 163,
   "metadata": {},
   "outputs": [
    {
     "data": {
      "text/plain": [
       "45334057566.79118"
      ]
     },
     "execution_count": 163,
     "metadata": {},
     "output_type": "execute_result"
    }
   ],
   "source": [
    "mse=mean_squared_error(y_test,y_pred)\n",
    "mse"
   ]
  },
  {
   "cell_type": "code",
   "execution_count": 164,
   "metadata": {},
   "outputs": [
    {
     "data": {
      "text/plain": [
       "212917.95970934717"
      ]
     },
     "execution_count": 164,
     "metadata": {},
     "output_type": "execute_result"
    }
   ],
   "source": [
    "rmse=np.sqrt(mse)\n",
    "rmse"
   ]
  },
  {
   "cell_type": "code",
   "execution_count": 165,
   "metadata": {},
   "outputs": [],
   "source": [
    "y_pred=forest_reg.predict(df1)"
   ]
  },
  {
   "cell_type": "code",
   "execution_count": 166,
   "metadata": {},
   "outputs": [],
   "source": [
    "df2=pd.read_csv('Test Data Set.csv')"
   ]
  },
  {
   "cell_type": "code",
   "execution_count": 167,
   "metadata": {},
   "outputs": [],
   "source": [
    "prediction = pd.DataFrame({'Unique Id':df2['Id'],'Price':y_pred})\n",
    "prediction.to_csv('Prediction1.csv')"
   ]
  },
  {
   "cell_type": "code",
   "execution_count": 209,
   "metadata": {},
   "outputs": [],
   "source": [
    "from xgboost import XGBRegressor "
   ]
  },
  {
   "cell_type": "code",
   "execution_count": 210,
   "metadata": {},
   "outputs": [],
   "source": [
    "y=df['Price']\n",
    "X=df.drop('Price',axis=1)"
   ]
  },
  {
   "cell_type": "code",
   "execution_count": 211,
   "metadata": {},
   "outputs": [],
   "source": [
    "X_train, X_test, y_train, y_test = train_test_split( X, y, test_size=0.30, random_state=2)"
   ]
  },
  {
   "cell_type": "code",
   "execution_count": 212,
   "metadata": {},
   "outputs": [
    {
     "name": "stdout",
     "output_type": "stream",
     "text": [
      "[15:00:52] WARNING: C:/Jenkins/workspace/xgboost-win64_release_0.90/src/objective/regression_obj.cu:152: reg:linear is now deprecated in favor of reg:squarederror.\n"
     ]
    }
   ],
   "source": [
    "classifier = XGBRegressor()\n",
    "classifier.fit(X_train, y_train)\n",
    "y_pred = classifier.predict(X_test)"
   ]
  },
  {
   "cell_type": "code",
   "execution_count": 213,
   "metadata": {},
   "outputs": [
    {
     "data": {
      "text/plain": [
       "47461847250.942894"
      ]
     },
     "execution_count": 213,
     "metadata": {},
     "output_type": "execute_result"
    }
   ],
   "source": [
    "mse=mean_squared_error(y_test,y_pred)\n",
    "mse"
   ]
  },
  {
   "cell_type": "code",
   "execution_count": 214,
   "metadata": {},
   "outputs": [
    {
     "data": {
      "text/plain": [
       "217857.40118468064"
      ]
     },
     "execution_count": 214,
     "metadata": {},
     "output_type": "execute_result"
    }
   ],
   "source": [
    "rmse=np.sqrt(mse)\n",
    "rmse"
   ]
  },
  {
   "cell_type": "code",
   "execution_count": 177,
   "metadata": {},
   "outputs": [],
   "source": [
    "from sklearn.feature_selection import RFE"
   ]
  },
  {
   "cell_type": "code",
   "execution_count": 178,
   "metadata": {},
   "outputs": [],
   "source": [
    "y=df['Price']\n",
    "X=df.drop('Price',axis=1)"
   ]
  },
  {
   "cell_type": "code",
   "execution_count": 179,
   "metadata": {},
   "outputs": [],
   "source": [
    "X_train, X_test, y_train, y_test = train_test_split( X, y, test_size=0.30, random_state=2)"
   ]
  },
  {
   "cell_type": "code",
   "execution_count": 181,
   "metadata": {},
   "outputs": [
    {
     "data": {
      "text/plain": [
       "(37460, 13)"
      ]
     },
     "execution_count": 181,
     "metadata": {},
     "output_type": "execute_result"
    }
   ],
   "source": [
    "X_train.shape"
   ]
  },
  {
   "cell_type": "code",
   "execution_count": 182,
   "metadata": {},
   "outputs": [
    {
     "data": {
      "text/plain": [
       "[<matplotlib.lines.Line2D at 0x1d6d145af60>]"
      ]
     },
     "execution_count": 182,
     "metadata": {},
     "output_type": "execute_result"
    },
    {
     "data": {
      "image/png": "[encoded data removed]",
      "text/plain": [
       "<Figure size 432x288 with 1 Axes>"
      ]
     },
     "metadata": {
      "needs_background": "light"
     },
     "output_type": "display_data"
    }
   ],
   "source": [
    "nnof_list=12\n",
    "score_list=[]\n",
    "\n",
    "for n in range(nnof_list):\n",
    "    X_train, X_test, y_train, y_test = train_test_split(X, y, test_size=0.30, random_state=42)\n",
    "    model=LinearRegression()\n",
    "    rfe=RFE(model,n+1)\n",
    "    X_train_rfe=rfe.fit_transform(X_train,y_train)\n",
    "    X_test_rfe=rfe.transform(X_test)\n",
    "    model.fit(X_train_rfe,y_train)\n",
    "    score=model.score(X_test_rfe,y_test)\n",
    "    score_list.append(score)\n",
    "    \n",
    "plt.plot(score_list)"
   ]
  },
  {
   "cell_type": "code",
   "execution_count": 183,
   "metadata": {},
   "outputs": [
    {
     "data": {
      "text/plain": [
       "[0.3014642793095095,\n",
       " 0.3846964962277818,\n",
       " 0.4005349116772473,\n",
       " 0.40205894038597223,\n",
       " 0.48281196520461506,\n",
       " 0.4863945900988845,\n",
       " 0.4864503598504497,\n",
       " 0.6848154918913254,\n",
       " 0.7015466451572911,\n",
       " 0.7027712788754534,\n",
       " 0.702737860084153,\n",
       " 0.7026567337126146]"
      ]
     },
     "execution_count": 183,
     "metadata": {},
     "output_type": "execute_result"
    }
   ],
   "source": [
    "score_list"
   ]
  },
  {
   "cell_type": "code",
   "execution_count": 204,
   "metadata": {},
   "outputs": [
    {
     "name": "stdout",
     "output_type": "stream",
     "text": [
      "['Maker', 'model', 'Location', 'distance', 'Owner Type', 'Age of car', 'engine_displacement', 'engine_power', 'Vroom Audit Rating', 'transmission', 'door_count', 'seat_count', 'fuel_type']\n"
     ]
    }
   ],
   "source": [
    "cols=list(X_train.columns)\n",
    "model=LinearRegression()\n",
    "rfe=RFE(model,13)\n",
    "X_train_rfe=rfe.fit_transform(X_train,y_train)\n",
    "model.fit(X_train_rfe,X_train)\n",
    "temp=pd.Series(rfe.support_,index=cols)\n",
    "selected_features=list(temp[temp==True].index)\n",
    "print(selected_features)"
   ]
  },
  {
   "cell_type": "code",
   "execution_count": 205,
   "metadata": {},
   "outputs": [
    {
     "data": {
      "text/plain": [
       "LinearRegression(copy_X=True, fit_intercept=True, n_jobs=None, normalize=False)"
      ]
     },
     "execution_count": 205,
     "metadata": {},
     "output_type": "execute_result"
    }
   ],
   "source": [
    "lr=LinearRegression(fit_intercept=True)\n",
    "\n",
    "lr.fit(X_train,y_train)\n",
    "\n"
   ]
  },
  {
   "cell_type": "code",
   "execution_count": 206,
   "metadata": {},
   "outputs": [],
   "source": [
    "y_pred=lr.predict(X_test)"
   ]
  },
  {
   "cell_type": "code",
   "execution_count": 207,
   "metadata": {},
   "outputs": [
    {
     "data": {
      "text/plain": [
       "207162299783.13422"
      ]
     },
     "execution_count": 207,
     "metadata": {},
     "output_type": "execute_result"
    }
   ],
   "source": [
    "mse=mean_squared_error(y_test,y_pred)\n",
    "mse"
   ]
  },
  {
   "cell_type": "code",
   "execution_count": 208,
   "metadata": {},
   "outputs": [
    {
     "data": {
      "text/plain": [
       "455150.8538749919"
      ]
     },
     "execution_count": 208,
     "metadata": {},
     "output_type": "execute_result"
    }
   ],
   "source": [
    "rmse=np.sqrt(mse)\n",
    "rmse"
   ]
  },
  {
   "cell_type": "code",
   "execution_count": 215,
   "metadata": {},
   "outputs": [],
   "source": [
    "from sklearn.neighbors import KNeighborsRegressor"
   ]
  },
  {
   "cell_type": "code",
   "execution_count": 217,
   "metadata": {},
   "outputs": [],
   "source": [
    "y=df['Price']\n",
    "X=df.drop('Price',axis=1)"
   ]
  },
  {
   "cell_type": "code",
   "execution_count": 218,
   "metadata": {},
   "outputs": [],
   "source": [
    "X_train, X_test, y_train, y_test = train_test_split( X, y, test_size=0.30, random_state=2)"
   ]
  },
  {
   "cell_type": "code",
   "execution_count": null,
   "metadata": {},
   "outputs": [],
   "source": []
  },
  {
   "cell_type": "code",
   "execution_count": null,
   "metadata": {},
   "outputs": [],
   "source": []
  },
  {
   "cell_type": "code",
   "execution_count": 219,
   "metadata": {},
   "outputs": [],
   "source": [
    "param_grid={\n",
    "    'criterion':['mse'],\n",
    "    'n_estimators':[150,100,75,50],\n",
    "    'max_features':['auto','sqrt','log2'],\n",
    "    'max_depth':[5,8,10,12]\n",
    "}"
   ]
  },
  {
   "cell_type": "code",
   "execution_count": 222,
   "metadata": {},
   "outputs": [],
   "source": [
    "import numpy as np\n",
    "import pandas as pd\n",
    "import matplotlib.pyplot as plt\n",
    "import seaborn as sns\n",
    "from sklearn.preprocessing import StandardScaler\n",
    "from sklearn.model_selection import train_test_split,GridSearchCV,cross_val_score,KFold\n",
    "#from sklearn.metrics import accuracy_score,confusion_matrix,precision_score,recall_score,classification_report,f1_score,\n",
    "from sklearn.tree import export_graphviz\n",
    "from sklearn.externals.six import StringIO\n",
    "from IPython.display import Image\n",
    "import pydotplus\n",
    "from sklearn.linear_model import LogisticRegression\n",
    "from sklearn.tree import DecisionTreeClassifier\n",
    "from sklearn.ensemble import RandomForestClassifier\n",
    "from sklearn.neighbors import KNeighborsClassifier\n",
    "from sklearn.naive_bayes import GaussianNB\n",
    "from sklearn.ensemble import BaggingClassifier\n",
    "from sklearn.ensemble import ExtraTreesClassifier\n",
    "from sklearn.ensemble import AdaBoostClassifier\n",
    "from sklearn.ensemble import GradientBoostingClassifier\n",
    "from xgboost import XGBClassifier\n",
    "from mlxtend.classifier import StackingClassifier\n",
    "from vecstack import stacking"
   ]
  },
  {
   "cell_type": "code",
   "execution_count": 350,
   "metadata": {},
   "outputs": [
    {
     "data": {
      "text/plain": [
       "(37460, 13)"
      ]
     },
     "execution_count": 350,
     "metadata": {},
     "output_type": "execute_result"
    }
   ],
   "source": [
    "X_train.shape"
   ]
  },
  {
   "cell_type": "code",
   "execution_count": 223,
   "metadata": {},
   "outputs": [
    {
     "name": "stdout",
     "output_type": "stream",
     "text": [
      "[15:05:27] WARNING: C:/Jenkins/workspace/xgboost-win64_release_0.90/src/objective/regression_obj.cu:152: reg:linear is now deprecated in favor of reg:squarederror.\n",
      "[15:05:30] WARNING: C:/Jenkins/workspace/xgboost-win64_release_0.90/src/objective/regression_obj.cu:152: reg:linear is now deprecated in favor of reg:squarederror.\n",
      "[15:05:34] WARNING: C:/Jenkins/workspace/xgboost-win64_release_0.90/src/objective/regression_obj.cu:152: reg:linear is now deprecated in favor of reg:squarederror.\n",
      "[15:05:38] WARNING: C:/Jenkins/workspace/xgboost-win64_release_0.90/src/objective/regression_obj.cu:152: reg:linear is now deprecated in favor of reg:squarederror.\n",
      "[15:05:41] WARNING: C:/Jenkins/workspace/xgboost-win64_release_0.90/src/objective/regression_obj.cu:152: reg:linear is now deprecated in favor of reg:squarederror.\n",
      "[15:05:43] WARNING: C:/Jenkins/workspace/xgboost-win64_release_0.90/src/objective/regression_obj.cu:152: reg:linear is now deprecated in favor of reg:squarederror.\n",
      "[15:05:46] WARNING: C:/Jenkins/workspace/xgboost-win64_release_0.90/src/objective/regression_obj.cu:152: reg:linear is now deprecated in favor of reg:squarederror.\n",
      "[15:05:48] WARNING: C:/Jenkins/workspace/xgboost-win64_release_0.90/src/objective/regression_obj.cu:152: reg:linear is now deprecated in favor of reg:squarederror.\n",
      "[15:05:50] WARNING: C:/Jenkins/workspace/xgboost-win64_release_0.90/src/objective/regression_obj.cu:152: reg:linear is now deprecated in favor of reg:squarederror.\n",
      "[15:05:52] WARNING: C:/Jenkins/workspace/xgboost-win64_release_0.90/src/objective/regression_obj.cu:152: reg:linear is now deprecated in favor of reg:squarederror.\n",
      "[15:05:53] WARNING: C:/Jenkins/workspace/xgboost-win64_release_0.90/src/objective/regression_obj.cu:152: reg:linear is now deprecated in favor of reg:squarederror.\n",
      "[15:05:54] WARNING: C:/Jenkins/workspace/xgboost-win64_release_0.90/src/objective/regression_obj.cu:152: reg:linear is now deprecated in favor of reg:squarederror.\n",
      "[15:05:55] WARNING: C:/Jenkins/workspace/xgboost-win64_release_0.90/src/objective/regression_obj.cu:152: reg:linear is now deprecated in favor of reg:squarederror.\n",
      "[15:05:59] WARNING: C:/Jenkins/workspace/xgboost-win64_release_0.90/src/objective/regression_obj.cu:152: reg:linear is now deprecated in favor of reg:squarederror.\n",
      "[15:06:03] WARNING: C:/Jenkins/workspace/xgboost-win64_release_0.90/src/objective/regression_obj.cu:152: reg:linear is now deprecated in favor of reg:squarederror.\n",
      "[15:06:06] WARNING: C:/Jenkins/workspace/xgboost-win64_release_0.90/src/objective/regression_obj.cu:152: reg:linear is now deprecated in favor of reg:squarederror.\n",
      "[15:06:09] WARNING: C:/Jenkins/workspace/xgboost-win64_release_0.90/src/objective/regression_obj.cu:152: reg:linear is now deprecated in favor of reg:squarederror.\n",
      "[15:06:11] WARNING: C:/Jenkins/workspace/xgboost-win64_release_0.90/src/objective/regression_obj.cu:152: reg:linear is now deprecated in favor of reg:squarederror.\n",
      "[15:06:13] WARNING: C:/Jenkins/workspace/xgboost-win64_release_0.90/src/objective/regression_obj.cu:152: reg:linear is now deprecated in favor of reg:squarederror.\n",
      "[15:06:15] WARNING: C:/Jenkins/workspace/xgboost-win64_release_0.90/src/objective/regression_obj.cu:152: reg:linear is now deprecated in favor of reg:squarederror.\n",
      "[15:06:17] WARNING: C:/Jenkins/workspace/xgboost-win64_release_0.90/src/objective/regression_obj.cu:152: reg:linear is now deprecated in favor of reg:squarederror.\n",
      "[15:06:19] WARNING: C:/Jenkins/workspace/xgboost-win64_release_0.90/src/objective/regression_obj.cu:152: reg:linear is now deprecated in favor of reg:squarederror.\n",
      "[15:06:20] WARNING: C:/Jenkins/workspace/xgboost-win64_release_0.90/src/objective/regression_obj.cu:152: reg:linear is now deprecated in favor of reg:squarederror.\n",
      "[15:06:21] WARNING: C:/Jenkins/workspace/xgboost-win64_release_0.90/src/objective/regression_obj.cu:152: reg:linear is now deprecated in favor of reg:squarederror.\n",
      "[15:06:23] WARNING: C:/Jenkins/workspace/xgboost-win64_release_0.90/src/objective/regression_obj.cu:152: reg:linear is now deprecated in favor of reg:squarederror.\n",
      "[15:06:26] WARNING: C:/Jenkins/workspace/xgboost-win64_release_0.90/src/objective/regression_obj.cu:152: reg:linear is now deprecated in favor of reg:squarederror.\n",
      "[15:06:30] WARNING: C:/Jenkins/workspace/xgboost-win64_release_0.90/src/objective/regression_obj.cu:152: reg:linear is now deprecated in favor of reg:squarederror.\n",
      "[15:06:33] WARNING: C:/Jenkins/workspace/xgboost-win64_release_0.90/src/objective/regression_obj.cu:152: reg:linear is now deprecated in favor of reg:squarederror.\n",
      "[15:06:35] WARNING: C:/Jenkins/workspace/xgboost-win64_release_0.90/src/objective/regression_obj.cu:152: reg:linear is now deprecated in favor of reg:squarederror.\n",
      "[15:06:38] WARNING: C:/Jenkins/workspace/xgboost-win64_release_0.90/src/objective/regression_obj.cu:152: reg:linear is now deprecated in favor of reg:squarederror.\n",
      "[15:06:40] WARNING: C:/Jenkins/workspace/xgboost-win64_release_0.90/src/objective/regression_obj.cu:152: reg:linear is now deprecated in favor of reg:squarederror.\n",
      "[15:06:42] WARNING: C:/Jenkins/workspace/xgboost-win64_release_0.90/src/objective/regression_obj.cu:152: reg:linear is now deprecated in favor of reg:squarederror.\n",
      "[15:06:44] WARNING: C:/Jenkins/workspace/xgboost-win64_release_0.90/src/objective/regression_obj.cu:152: reg:linear is now deprecated in favor of reg:squarederror.\n",
      "[15:06:46] WARNING: C:/Jenkins/workspace/xgboost-win64_release_0.90/src/objective/regression_obj.cu:152: reg:linear is now deprecated in favor of reg:squarederror.\n",
      "[15:06:47] WARNING: C:/Jenkins/workspace/xgboost-win64_release_0.90/src/objective/regression_obj.cu:152: reg:linear is now deprecated in favor of reg:squarederror.\n",
      "[15:06:48] WARNING: C:/Jenkins/workspace/xgboost-win64_release_0.90/src/objective/regression_obj.cu:152: reg:linear is now deprecated in favor of reg:squarederror.\n",
      "[15:06:49] WARNING: C:/Jenkins/workspace/xgboost-win64_release_0.90/src/objective/regression_obj.cu:152: reg:linear is now deprecated in favor of reg:squarederror.\n",
      "[15:06:55] WARNING: C:/Jenkins/workspace/xgboost-win64_release_0.90/src/objective/regression_obj.cu:152: reg:linear is now deprecated in favor of reg:squarederror.\n",
      "[15:07:01] WARNING: C:/Jenkins/workspace/xgboost-win64_release_0.90/src/objective/regression_obj.cu:152: reg:linear is now deprecated in favor of reg:squarederror.\n",
      "[15:07:06] WARNING: C:/Jenkins/workspace/xgboost-win64_release_0.90/src/objective/regression_obj.cu:152: reg:linear is now deprecated in favor of reg:squarederror.\n",
      "[15:07:10] WARNING: C:/Jenkins/workspace/xgboost-win64_release_0.90/src/objective/regression_obj.cu:152: reg:linear is now deprecated in favor of reg:squarederror.\n",
      "[15:07:14] WARNING: C:/Jenkins/workspace/xgboost-win64_release_0.90/src/objective/regression_obj.cu:152: reg:linear is now deprecated in favor of reg:squarederror.\n",
      "[15:07:18] WARNING: C:/Jenkins/workspace/xgboost-win64_release_0.90/src/objective/regression_obj.cu:152: reg:linear is now deprecated in favor of reg:squarederror.\n",
      "[15:07:21] WARNING: C:/Jenkins/workspace/xgboost-win64_release_0.90/src/objective/regression_obj.cu:152: reg:linear is now deprecated in favor of reg:squarederror.\n",
      "[15:07:23] WARNING: C:/Jenkins/workspace/xgboost-win64_release_0.90/src/objective/regression_obj.cu:152: reg:linear is now deprecated in favor of reg:squarederror.\n",
      "[15:07:26] WARNING: C:/Jenkins/workspace/xgboost-win64_release_0.90/src/objective/regression_obj.cu:152: reg:linear is now deprecated in favor of reg:squarederror.\n",
      "[15:07:28] WARNING: C:/Jenkins/workspace/xgboost-win64_release_0.90/src/objective/regression_obj.cu:152: reg:linear is now deprecated in favor of reg:squarederror.\n",
      "[15:07:30] WARNING: C:/Jenkins/workspace/xgboost-win64_release_0.90/src/objective/regression_obj.cu:152: reg:linear is now deprecated in favor of reg:squarederror.\n",
      "[15:07:32] WARNING: C:/Jenkins/workspace/xgboost-win64_release_0.90/src/objective/regression_obj.cu:152: reg:linear is now deprecated in favor of reg:squarederror.\n",
      "[15:07:38] WARNING: C:/Jenkins/workspace/xgboost-win64_release_0.90/src/objective/regression_obj.cu:152: reg:linear is now deprecated in favor of reg:squarederror.\n"
     ]
    },
    {
     "name": "stdout",
     "output_type": "stream",
     "text": [
      "[15:07:43] WARNING: C:/Jenkins/workspace/xgboost-win64_release_0.90/src/objective/regression_obj.cu:152: reg:linear is now deprecated in favor of reg:squarederror.\n",
      "[15:07:49] WARNING: C:/Jenkins/workspace/xgboost-win64_release_0.90/src/objective/regression_obj.cu:152: reg:linear is now deprecated in favor of reg:squarederror.\n",
      "[15:07:53] WARNING: C:/Jenkins/workspace/xgboost-win64_release_0.90/src/objective/regression_obj.cu:152: reg:linear is now deprecated in favor of reg:squarederror.\n",
      "[15:07:56] WARNING: C:/Jenkins/workspace/xgboost-win64_release_0.90/src/objective/regression_obj.cu:152: reg:linear is now deprecated in favor of reg:squarederror.\n",
      "[15:08:00] WARNING: C:/Jenkins/workspace/xgboost-win64_release_0.90/src/objective/regression_obj.cu:152: reg:linear is now deprecated in favor of reg:squarederror.\n",
      "[15:08:03] WARNING: C:/Jenkins/workspace/xgboost-win64_release_0.90/src/objective/regression_obj.cu:152: reg:linear is now deprecated in favor of reg:squarederror.\n",
      "[15:08:06] WARNING: C:/Jenkins/workspace/xgboost-win64_release_0.90/src/objective/regression_obj.cu:152: reg:linear is now deprecated in favor of reg:squarederror.\n",
      "[15:08:09] WARNING: C:/Jenkins/workspace/xgboost-win64_release_0.90/src/objective/regression_obj.cu:152: reg:linear is now deprecated in favor of reg:squarederror.\n",
      "[15:08:11] WARNING: C:/Jenkins/workspace/xgboost-win64_release_0.90/src/objective/regression_obj.cu:152: reg:linear is now deprecated in favor of reg:squarederror.\n",
      "[15:08:13] WARNING: C:/Jenkins/workspace/xgboost-win64_release_0.90/src/objective/regression_obj.cu:152: reg:linear is now deprecated in favor of reg:squarederror.\n",
      "[15:08:15] WARNING: C:/Jenkins/workspace/xgboost-win64_release_0.90/src/objective/regression_obj.cu:152: reg:linear is now deprecated in favor of reg:squarederror.\n",
      "[15:08:20] WARNING: C:/Jenkins/workspace/xgboost-win64_release_0.90/src/objective/regression_obj.cu:152: reg:linear is now deprecated in favor of reg:squarederror.\n",
      "[15:08:26] WARNING: C:/Jenkins/workspace/xgboost-win64_release_0.90/src/objective/regression_obj.cu:152: reg:linear is now deprecated in favor of reg:squarederror.\n",
      "[15:08:31] WARNING: C:/Jenkins/workspace/xgboost-win64_release_0.90/src/objective/regression_obj.cu:152: reg:linear is now deprecated in favor of reg:squarederror.\n",
      "[15:08:35] WARNING: C:/Jenkins/workspace/xgboost-win64_release_0.90/src/objective/regression_obj.cu:152: reg:linear is now deprecated in favor of reg:squarederror.\n",
      "[15:08:39] WARNING: C:/Jenkins/workspace/xgboost-win64_release_0.90/src/objective/regression_obj.cu:152: reg:linear is now deprecated in favor of reg:squarederror.\n",
      "[15:08:43] WARNING: C:/Jenkins/workspace/xgboost-win64_release_0.90/src/objective/regression_obj.cu:152: reg:linear is now deprecated in favor of reg:squarederror.\n",
      "[15:08:46] WARNING: C:/Jenkins/workspace/xgboost-win64_release_0.90/src/objective/regression_obj.cu:152: reg:linear is now deprecated in favor of reg:squarederror.\n",
      "[15:08:48] WARNING: C:/Jenkins/workspace/xgboost-win64_release_0.90/src/objective/regression_obj.cu:152: reg:linear is now deprecated in favor of reg:squarederror.\n",
      "[15:08:51] WARNING: C:/Jenkins/workspace/xgboost-win64_release_0.90/src/objective/regression_obj.cu:152: reg:linear is now deprecated in favor of reg:squarederror.\n",
      "[15:08:53] WARNING: C:/Jenkins/workspace/xgboost-win64_release_0.90/src/objective/regression_obj.cu:152: reg:linear is now deprecated in favor of reg:squarederror.\n",
      "[15:08:55] WARNING: C:/Jenkins/workspace/xgboost-win64_release_0.90/src/objective/regression_obj.cu:152: reg:linear is now deprecated in favor of reg:squarederror.\n",
      "[15:08:57] WARNING: C:/Jenkins/workspace/xgboost-win64_release_0.90/src/objective/regression_obj.cu:152: reg:linear is now deprecated in favor of reg:squarederror.\n",
      "[15:09:04] WARNING: C:/Jenkins/workspace/xgboost-win64_release_0.90/src/objective/regression_obj.cu:152: reg:linear is now deprecated in favor of reg:squarederror.\n",
      "[15:09:11] WARNING: C:/Jenkins/workspace/xgboost-win64_release_0.90/src/objective/regression_obj.cu:152: reg:linear is now deprecated in favor of reg:squarederror.\n",
      "[15:09:18] WARNING: C:/Jenkins/workspace/xgboost-win64_release_0.90/src/objective/regression_obj.cu:152: reg:linear is now deprecated in favor of reg:squarederror.\n",
      "[15:09:23] WARNING: C:/Jenkins/workspace/xgboost-win64_release_0.90/src/objective/regression_obj.cu:152: reg:linear is now deprecated in favor of reg:squarederror.\n",
      "[15:09:27] WARNING: C:/Jenkins/workspace/xgboost-win64_release_0.90/src/objective/regression_obj.cu:152: reg:linear is now deprecated in favor of reg:squarederror.\n",
      "[15:09:32] WARNING: C:/Jenkins/workspace/xgboost-win64_release_0.90/src/objective/regression_obj.cu:152: reg:linear is now deprecated in favor of reg:squarederror.\n",
      "[15:09:36] WARNING: C:/Jenkins/workspace/xgboost-win64_release_0.90/src/objective/regression_obj.cu:152: reg:linear is now deprecated in favor of reg:squarederror.\n",
      "[15:09:39] WARNING: C:/Jenkins/workspace/xgboost-win64_release_0.90/src/objective/regression_obj.cu:152: reg:linear is now deprecated in favor of reg:squarederror.\n",
      "[15:09:43] WARNING: C:/Jenkins/workspace/xgboost-win64_release_0.90/src/objective/regression_obj.cu:152: reg:linear is now deprecated in favor of reg:squarederror.\n",
      "[15:09:45] WARNING: C:/Jenkins/workspace/xgboost-win64_release_0.90/src/objective/regression_obj.cu:152: reg:linear is now deprecated in favor of reg:squarederror.\n",
      "[15:09:48] WARNING: C:/Jenkins/workspace/xgboost-win64_release_0.90/src/objective/regression_obj.cu:152: reg:linear is now deprecated in favor of reg:squarederror.\n",
      "[15:09:51] WARNING: C:/Jenkins/workspace/xgboost-win64_release_0.90/src/objective/regression_obj.cu:152: reg:linear is now deprecated in favor of reg:squarederror.\n",
      "[15:09:57] WARNING: C:/Jenkins/workspace/xgboost-win64_release_0.90/src/objective/regression_obj.cu:152: reg:linear is now deprecated in favor of reg:squarederror.\n",
      "[15:10:04] WARNING: C:/Jenkins/workspace/xgboost-win64_release_0.90/src/objective/regression_obj.cu:152: reg:linear is now deprecated in favor of reg:squarederror.\n",
      "[15:10:11] WARNING: C:/Jenkins/workspace/xgboost-win64_release_0.90/src/objective/regression_obj.cu:152: reg:linear is now deprecated in favor of reg:squarederror.\n",
      "[15:10:16] WARNING: C:/Jenkins/workspace/xgboost-win64_release_0.90/src/objective/regression_obj.cu:152: reg:linear is now deprecated in favor of reg:squarederror.\n",
      "[15:10:21] WARNING: C:/Jenkins/workspace/xgboost-win64_release_0.90/src/objective/regression_obj.cu:152: reg:linear is now deprecated in favor of reg:squarederror.\n",
      "[15:10:25] WARNING: C:/Jenkins/workspace/xgboost-win64_release_0.90/src/objective/regression_obj.cu:152: reg:linear is now deprecated in favor of reg:squarederror.\n",
      "[15:10:29] WARNING: C:/Jenkins/workspace/xgboost-win64_release_0.90/src/objective/regression_obj.cu:152: reg:linear is now deprecated in favor of reg:squarederror.\n",
      "[15:10:33] WARNING: C:/Jenkins/workspace/xgboost-win64_release_0.90/src/objective/regression_obj.cu:152: reg:linear is now deprecated in favor of reg:squarederror.\n",
      "[15:10:36] WARNING: C:/Jenkins/workspace/xgboost-win64_release_0.90/src/objective/regression_obj.cu:152: reg:linear is now deprecated in favor of reg:squarederror.\n",
      "[15:10:39] WARNING: C:/Jenkins/workspace/xgboost-win64_release_0.90/src/objective/regression_obj.cu:152: reg:linear is now deprecated in favor of reg:squarederror.\n",
      "[15:10:41] WARNING: C:/Jenkins/workspace/xgboost-win64_release_0.90/src/objective/regression_obj.cu:152: reg:linear is now deprecated in favor of reg:squarederror.\n",
      "[15:10:44] WARNING: C:/Jenkins/workspace/xgboost-win64_release_0.90/src/objective/regression_obj.cu:152: reg:linear is now deprecated in favor of reg:squarederror.\n",
      "[15:10:51] WARNING: C:/Jenkins/workspace/xgboost-win64_release_0.90/src/objective/regression_obj.cu:152: reg:linear is now deprecated in favor of reg:squarederror.\n",
      "[15:10:57] WARNING: C:/Jenkins/workspace/xgboost-win64_release_0.90/src/objective/regression_obj.cu:152: reg:linear is now deprecated in favor of reg:squarederror.\n",
      "[15:11:04] WARNING: C:/Jenkins/workspace/xgboost-win64_release_0.90/src/objective/regression_obj.cu:152: reg:linear is now deprecated in favor of reg:squarederror.\n"
     ]
    },
    {
     "name": "stdout",
     "output_type": "stream",
     "text": [
      "[15:11:09] WARNING: C:/Jenkins/workspace/xgboost-win64_release_0.90/src/objective/regression_obj.cu:152: reg:linear is now deprecated in favor of reg:squarederror.\n",
      "[15:11:14] WARNING: C:/Jenkins/workspace/xgboost-win64_release_0.90/src/objective/regression_obj.cu:152: reg:linear is now deprecated in favor of reg:squarederror.\n",
      "[15:11:19] WARNING: C:/Jenkins/workspace/xgboost-win64_release_0.90/src/objective/regression_obj.cu:152: reg:linear is now deprecated in favor of reg:squarederror.\n",
      "[15:11:22] WARNING: C:/Jenkins/workspace/xgboost-win64_release_0.90/src/objective/regression_obj.cu:152: reg:linear is now deprecated in favor of reg:squarederror.\n",
      "[15:11:26] WARNING: C:/Jenkins/workspace/xgboost-win64_release_0.90/src/objective/regression_obj.cu:152: reg:linear is now deprecated in favor of reg:squarederror.\n",
      "[15:11:30] WARNING: C:/Jenkins/workspace/xgboost-win64_release_0.90/src/objective/regression_obj.cu:152: reg:linear is now deprecated in favor of reg:squarederror.\n",
      "[15:11:32] WARNING: C:/Jenkins/workspace/xgboost-win64_release_0.90/src/objective/regression_obj.cu:152: reg:linear is now deprecated in favor of reg:squarederror.\n",
      "[15:11:35] WARNING: C:/Jenkins/workspace/xgboost-win64_release_0.90/src/objective/regression_obj.cu:152: reg:linear is now deprecated in favor of reg:squarederror.\n",
      "[15:11:37] WARNING: C:/Jenkins/workspace/xgboost-win64_release_0.90/src/objective/regression_obj.cu:152: reg:linear is now deprecated in favor of reg:squarederror.\n",
      "[15:11:46] WARNING: C:/Jenkins/workspace/xgboost-win64_release_0.90/src/objective/regression_obj.cu:152: reg:linear is now deprecated in favor of reg:squarederror.\n",
      "[15:11:54] WARNING: C:/Jenkins/workspace/xgboost-win64_release_0.90/src/objective/regression_obj.cu:152: reg:linear is now deprecated in favor of reg:squarederror.\n",
      "[15:12:03] WARNING: C:/Jenkins/workspace/xgboost-win64_release_0.90/src/objective/regression_obj.cu:152: reg:linear is now deprecated in favor of reg:squarederror.\n",
      "[15:12:09] WARNING: C:/Jenkins/workspace/xgboost-win64_release_0.90/src/objective/regression_obj.cu:152: reg:linear is now deprecated in favor of reg:squarederror.\n",
      "[15:12:14] WARNING: C:/Jenkins/workspace/xgboost-win64_release_0.90/src/objective/regression_obj.cu:152: reg:linear is now deprecated in favor of reg:squarederror.\n",
      "[15:12:20] WARNING: C:/Jenkins/workspace/xgboost-win64_release_0.90/src/objective/regression_obj.cu:152: reg:linear is now deprecated in favor of reg:squarederror.\n",
      "[15:12:25] WARNING: C:/Jenkins/workspace/xgboost-win64_release_0.90/src/objective/regression_obj.cu:152: reg:linear is now deprecated in favor of reg:squarederror.\n",
      "[15:12:29] WARNING: C:/Jenkins/workspace/xgboost-win64_release_0.90/src/objective/regression_obj.cu:152: reg:linear is now deprecated in favor of reg:squarederror.\n",
      "[15:12:34] WARNING: C:/Jenkins/workspace/xgboost-win64_release_0.90/src/objective/regression_obj.cu:152: reg:linear is now deprecated in favor of reg:squarederror.\n",
      "[15:12:37] WARNING: C:/Jenkins/workspace/xgboost-win64_release_0.90/src/objective/regression_obj.cu:152: reg:linear is now deprecated in favor of reg:squarederror.\n",
      "[15:12:40] WARNING: C:/Jenkins/workspace/xgboost-win64_release_0.90/src/objective/regression_obj.cu:152: reg:linear is now deprecated in favor of reg:squarederror.\n",
      "[15:12:43] WARNING: C:/Jenkins/workspace/xgboost-win64_release_0.90/src/objective/regression_obj.cu:152: reg:linear is now deprecated in favor of reg:squarederror.\n",
      "[15:12:52] WARNING: C:/Jenkins/workspace/xgboost-win64_release_0.90/src/objective/regression_obj.cu:152: reg:linear is now deprecated in favor of reg:squarederror.\n",
      "[15:13:00] WARNING: C:/Jenkins/workspace/xgboost-win64_release_0.90/src/objective/regression_obj.cu:152: reg:linear is now deprecated in favor of reg:squarederror.\n",
      "[15:13:09] WARNING: C:/Jenkins/workspace/xgboost-win64_release_0.90/src/objective/regression_obj.cu:152: reg:linear is now deprecated in favor of reg:squarederror.\n",
      "[15:13:15] WARNING: C:/Jenkins/workspace/xgboost-win64_release_0.90/src/objective/regression_obj.cu:152: reg:linear is now deprecated in favor of reg:squarederror.\n",
      "[15:13:21] WARNING: C:/Jenkins/workspace/xgboost-win64_release_0.90/src/objective/regression_obj.cu:152: reg:linear is now deprecated in favor of reg:squarederror.\n",
      "[15:13:27] WARNING: C:/Jenkins/workspace/xgboost-win64_release_0.90/src/objective/regression_obj.cu:152: reg:linear is now deprecated in favor of reg:squarederror.\n",
      "[15:13:31] WARNING: C:/Jenkins/workspace/xgboost-win64_release_0.90/src/objective/regression_obj.cu:152: reg:linear is now deprecated in favor of reg:squarederror.\n",
      "[15:13:36] WARNING: C:/Jenkins/workspace/xgboost-win64_release_0.90/src/objective/regression_obj.cu:152: reg:linear is now deprecated in favor of reg:squarederror.\n",
      "[15:13:40] WARNING: C:/Jenkins/workspace/xgboost-win64_release_0.90/src/objective/regression_obj.cu:152: reg:linear is now deprecated in favor of reg:squarederror.\n",
      "[15:13:44] WARNING: C:/Jenkins/workspace/xgboost-win64_release_0.90/src/objective/regression_obj.cu:152: reg:linear is now deprecated in favor of reg:squarederror.\n",
      "[15:13:47] WARNING: C:/Jenkins/workspace/xgboost-win64_release_0.90/src/objective/regression_obj.cu:152: reg:linear is now deprecated in favor of reg:squarederror.\n",
      "[15:13:50] WARNING: C:/Jenkins/workspace/xgboost-win64_release_0.90/src/objective/regression_obj.cu:152: reg:linear is now deprecated in favor of reg:squarederror.\n",
      "[15:13:58] WARNING: C:/Jenkins/workspace/xgboost-win64_release_0.90/src/objective/regression_obj.cu:152: reg:linear is now deprecated in favor of reg:squarederror.\n",
      "[15:14:07] WARNING: C:/Jenkins/workspace/xgboost-win64_release_0.90/src/objective/regression_obj.cu:152: reg:linear is now deprecated in favor of reg:squarederror.\n",
      "[15:14:15] WARNING: C:/Jenkins/workspace/xgboost-win64_release_0.90/src/objective/regression_obj.cu:152: reg:linear is now deprecated in favor of reg:squarederror.\n",
      "[15:14:21] WARNING: C:/Jenkins/workspace/xgboost-win64_release_0.90/src/objective/regression_obj.cu:152: reg:linear is now deprecated in favor of reg:squarederror.\n",
      "[15:14:27] WARNING: C:/Jenkins/workspace/xgboost-win64_release_0.90/src/objective/regression_obj.cu:152: reg:linear is now deprecated in favor of reg:squarederror.\n",
      "[15:14:33] WARNING: C:/Jenkins/workspace/xgboost-win64_release_0.90/src/objective/regression_obj.cu:152: reg:linear is now deprecated in favor of reg:squarederror.\n",
      "[15:14:38] WARNING: C:/Jenkins/workspace/xgboost-win64_release_0.90/src/objective/regression_obj.cu:152: reg:linear is now deprecated in favor of reg:squarederror.\n",
      "[15:14:42] WARNING: C:/Jenkins/workspace/xgboost-win64_release_0.90/src/objective/regression_obj.cu:152: reg:linear is now deprecated in favor of reg:squarederror.\n",
      "[15:14:47] WARNING: C:/Jenkins/workspace/xgboost-win64_release_0.90/src/objective/regression_obj.cu:152: reg:linear is now deprecated in favor of reg:squarederror.\n",
      "[15:14:50] WARNING: C:/Jenkins/workspace/xgboost-win64_release_0.90/src/objective/regression_obj.cu:152: reg:linear is now deprecated in favor of reg:squarederror.\n",
      "[15:14:53] WARNING: C:/Jenkins/workspace/xgboost-win64_release_0.90/src/objective/regression_obj.cu:152: reg:linear is now deprecated in favor of reg:squarederror.\n",
      "[15:14:56] WARNING: C:/Jenkins/workspace/xgboost-win64_release_0.90/src/objective/regression_obj.cu:152: reg:linear is now deprecated in favor of reg:squarederror.\n"
     ]
    }
   ],
   "source": [
    "Crfc=GridSearchCV(estimator=classifier,param_grid=param_grid,cv=3)\n",
    "Crfc.fit(X_train,y_train)\n",
    "y_pred=Crfc.predict(X_test)"
   ]
  },
  {
   "cell_type": "code",
   "execution_count": 358,
   "metadata": {},
   "outputs": [
    {
     "name": "stdout",
     "output_type": "stream",
     "text": [
      "0.9184351876645396\n",
      "{'criterion': 'mse', 'max_depth': 5, 'max_features': 'auto', 'n_estimators': 150}\n",
      "XGBRegressor(base_score=0.5, booster='gbtree', colsample_bylevel=1,\n",
      "             colsample_bynode=1, colsample_bytree=1, criterion='mse', gamma=0,\n",
      "             importance_type='gain', learning_rate=0.1, max_delta_step=0,\n",
      "             max_depth=5, max_features='auto', min_child_weight=1, missing=None,\n",
      "             n_estimators=150, n_jobs=1, nthread=None, objective='reg:linear',\n",
      "             random_state=0, reg_alpha=0, reg_lambda=1, scale_pos_weight=1,\n",
      "             seed=None, silent=None, subsample=1, verbosity=1)\n"
     ]
    }
   ],
   "source": [
    "print(Crfc.best_score_)\n",
    "print(Crfc.best_params_)\n",
    "print(Crfc.best_estimator_)"
   ]
  },
  {
   "cell_type": "code",
   "execution_count": 301,
   "metadata": {},
   "outputs": [
    {
     "data": {
      "text/plain": [
       "192638.79908061342"
      ]
     },
     "execution_count": 301,
     "metadata": {},
     "output_type": "execute_result"
    }
   ],
   "source": [
    "rmse=np.sqrt(mse)\n",
    "rmse"
   ]
  },
  {
   "cell_type": "code",
   "execution_count": 351,
   "metadata": {},
   "outputs": [
    {
     "data": {
      "text/plain": [
       "(5615, 13)"
      ]
     },
     "execution_count": 351,
     "metadata": {},
     "output_type": "execute_result"
    }
   ],
   "source": [
    "df1.shape"
   ]
  },
  {
   "cell_type": "code",
   "execution_count": null,
   "metadata": {},
   "outputs": [],
   "source": [
    "df1['Distance']=df1['Distance'].rename"
   ]
  },
  {
   "cell_type": "code",
   "execution_count": 354,
   "metadata": {},
   "outputs": [],
   "source": [
    "df1.rename(columns={'Distance ':'distance'},inplace=True)"
   ]
  },
  {
   "cell_type": "code",
   "execution_count": 355,
   "metadata": {},
   "outputs": [],
   "source": [
    "y_pred=Crfc.predict(df1)"
   ]
  },
  {
   "cell_type": "code",
   "execution_count": 356,
   "metadata": {},
   "outputs": [],
   "source": [
    "df2=pd.read_csv('Test Data Set.csv')"
   ]
  },
  {
   "cell_type": "code",
   "execution_count": 357,
   "metadata": {},
   "outputs": [],
   "source": [
    "prediction = pd.DataFrame({'Unique Id':df2['Id'],'Price':y_pred_test})\n",
    "prediction.to_csv('Prediction2.csv')"
   ]
  },
  {
   "cell_type": "code",
   "execution_count": null,
   "metadata": {},
   "outputs": [],
   "source": []
  }
 ],
 "metadata": {
  "kernelspec": {
   "display_name": "Python 3",
   "language": "python",
   "name": "python3"
  },
  "language_info": {
   "codemirror_mode": {
    "name": "ipython",
    "version": 3
   },
   "file_extension": ".py",
   "mimetype": "text/x-python",
   "name": "python",
   "nbconvert_exporter": "python",
   "pygments_lexer": "ipython3",
   "version": "3.7.3"
  }
 },
 "nbformat": 4,
 "nbformat_minor": 2
}
